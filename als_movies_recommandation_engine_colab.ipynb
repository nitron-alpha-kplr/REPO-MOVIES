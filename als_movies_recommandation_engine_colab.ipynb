{
  "cells": [
    {
      "cell_type": "markdown",
      "metadata": {
        "id": "view-in-github",
        "colab_type": "text"
      },
      "source": [
        "<a href=\"https://colab.research.google.com/github/nitron-alpha-kplr/REPO-MOVIES/blob/main/als_movies_recommandation_engine_colab.ipynb\" target=\"_parent\"><img src=\"https://colab.research.google.com/assets/colab-badge.svg\" alt=\"Open In Colab\"/></a>"
      ]
    },
    {
      "cell_type": "code",
      "source": [
        "# Install pyspark\n",
        "!pip install pyspark"
      ],
      "metadata": {
        "colab": {
          "base_uri": "https://localhost:8080/"
        },
        "id": "U7Lof2J5bD_i",
        "outputId": "3df46697-1263-4327-a297-0f32e69ecab4"
      },
      "execution_count": 1,
      "outputs": [
        {
          "output_type": "stream",
          "name": "stdout",
          "text": [
            "Collecting pyspark\n",
            "  Downloading pyspark-3.4.1.tar.gz (310.8 MB)\n",
            "\u001b[2K     \u001b[90m━━━━━━━━━━━━━━━━━━━━━━━━━━━━━━━━━━━━━━━\u001b[0m \u001b[32m310.8/310.8 MB\u001b[0m \u001b[31m4.5 MB/s\u001b[0m eta \u001b[36m0:00:00\u001b[0m\n",
            "\u001b[?25h  Preparing metadata (setup.py) ... \u001b[?25l\u001b[?25hdone\n",
            "Requirement already satisfied: py4j==0.10.9.7 in /usr/local/lib/python3.10/dist-packages (from pyspark) (0.10.9.7)\n",
            "Building wheels for collected packages: pyspark\n",
            "  Building wheel for pyspark (setup.py) ... \u001b[?25l\u001b[?25hdone\n",
            "  Created wheel for pyspark: filename=pyspark-3.4.1-py2.py3-none-any.whl size=311285398 sha256=0bad8d3fbb7e16dd2f90f88bf1a0fbc20e9b7e2f94d1f00d88c2d5b04bbb89d6\n",
            "  Stored in directory: /root/.cache/pip/wheels/0d/77/a3/ff2f74cc9ab41f8f594dabf0579c2a7c6de920d584206e0834\n",
            "Successfully built pyspark\n",
            "Installing collected packages: pyspark\n",
            "Successfully installed pyspark-3.4.1\n"
          ]
        }
      ]
    },
    {
      "cell_type": "code",
      "execution_count": 2,
      "metadata": {
        "id": "00gtzN8Hab8u"
      },
      "outputs": [],
      "source": [
        "from pyspark.sql.types import *\n",
        "import pandas as pd\n",
        "pd.options.display.max_columns = None\n",
        "from pyspark.sql.functions import *"
      ]
    },
    {
      "cell_type": "code",
      "source": [
        "from pyspark.context import SparkContext\n",
        "from pyspark.sql.session import SparkSession\n",
        "sc = SparkContext('local')\n",
        "spark = SparkSession(sc)"
      ],
      "metadata": {
        "id": "gzEvz0S5c288"
      },
      "execution_count": 3,
      "outputs": []
    },
    {
      "cell_type": "markdown",
      "metadata": {
        "id": "LrrzowWlab8v"
      },
      "source": [
        "<hr style=\"border:1px solid blue\"></hr>"
      ]
    },
    {
      "cell_type": "markdown",
      "metadata": {
        "id": "5ZDPRe4dab8w"
      },
      "source": [
        "### LOADING DATA"
      ]
    },
    {
      "cell_type": "markdown",
      "metadata": {
        "id": "XWLgODY2ab8w"
      },
      "source": [
        "#### Download Dataset & Load into HDFS"
      ]
    },
    {
      "cell_type": "markdown",
      "metadata": {
        "id": "rnqoJZS9ab8w"
      },
      "source": [
        "```\n",
        "sudo su\n",
        "cd\n",
        "mkdir mov\n",
        "cd mov\n",
        "\n",
        "wget http://files.grouplens.org/datasets/movielens/ml-latest.zip\n",
        "unzip ml-latest.zip\n",
        "rm -f ml-latest.zip\n",
        "\n",
        "hdfs dfs -mkdir /user/root/data/\n",
        "hdfs dfs -mkdir /user/root/data/MOV/\n",
        "hdfs dfs -mkdir /user/root/data/MOV/CSV\n",
        "\n",
        "hdfs dfs -put ml-latest/* /user/root/data/MOV/CSV\n",
        "```\n"
      ]
    },
    {
      "cell_type": "code",
      "source": [
        "!wget http://files.grouplens.org/datasets/movielens/ml-latest.zip\n",
        "!unzip ml-latest.zip\n",
        "!rm -f ml-latest.zip"
      ],
      "metadata": {
        "colab": {
          "base_uri": "https://localhost:8080/"
        },
        "id": "WzUGS8bGbm_Y",
        "outputId": "3028cbcc-139d-4ca1-b9b4-8f1b7c4edfd5"
      },
      "execution_count": 4,
      "outputs": [
        {
          "output_type": "stream",
          "name": "stdout",
          "text": [
            "--2023-07-05 10:19:00--  http://files.grouplens.org/datasets/movielens/ml-latest.zip\n",
            "Resolving files.grouplens.org (files.grouplens.org)... 128.101.65.152\n",
            "Connecting to files.grouplens.org (files.grouplens.org)|128.101.65.152|:80... connected.\n",
            "HTTP request sent, awaiting response... 200 OK\n",
            "Length: 277113433 (264M) [application/zip]\n",
            "Saving to: ‘ml-latest.zip’\n",
            "\n",
            "ml-latest.zip       100%[===================>] 264.28M   101MB/s    in 2.6s    \n",
            "\n",
            "2023-07-05 10:19:03 (101 MB/s) - ‘ml-latest.zip’ saved [277113433/277113433]\n",
            "\n",
            "Archive:  ml-latest.zip\n",
            "   creating: ml-latest/\n",
            "  inflating: ml-latest/links.csv     \n",
            "  inflating: ml-latest/tags.csv      \n",
            "  inflating: ml-latest/genome-tags.csv  \n",
            "  inflating: ml-latest/ratings.csv   \n",
            "  inflating: ml-latest/README.txt    \n",
            "  inflating: ml-latest/genome-scores.csv  \n",
            "  inflating: ml-latest/movies.csv    \n"
          ]
        }
      ]
    },
    {
      "cell_type": "markdown",
      "metadata": {
        "id": "SU91grWVab8x"
      },
      "source": [
        "#### Define schema for Movies Dataset\n"
      ]
    },
    {
      "cell_type": "code",
      "execution_count": 5,
      "metadata": {
        "id": "qg9ZZzHjab8x"
      },
      "outputs": [],
      "source": [
        "moviesStruct = [StructField(\"movieId\", IntegerType(), True),\n",
        "    StructField(\"title\", StringType(), True),\n",
        "    StructField(\"genres\", StringType(), True)]\n",
        "\n",
        "moviesSchema = StructType(moviesStruct)"
      ]
    },
    {
      "cell_type": "markdown",
      "metadata": {
        "id": "bDV21WN4ab8x"
      },
      "source": [
        "#### Read Movies dataframe from HDFS"
      ]
    },
    {
      "cell_type": "code",
      "execution_count": 6,
      "metadata": {
        "id": "9NfPW79hab8x"
      },
      "outputs": [],
      "source": [
        "# Read movies from HDFS as CSV (FIRST TIME ONLY)\n",
        "\n",
        "moviesDF = spark.read.format(\"csv\") \\\n",
        "    .option(\"header\", \"true\") \\\n",
        "    .option(\"delimiter\", \",\") \\\n",
        "    .schema(moviesSchema) \\\n",
        "    .load(\"/content/ml-latest/movies.csv\")\n",
        "#   .load(\"hdfs:///user/root/data/MOV/CSV/movies.csv\")"
      ]
    },
    {
      "cell_type": "code",
      "source": [
        "moviesDF"
      ],
      "metadata": {
        "colab": {
          "base_uri": "https://localhost:8080/"
        },
        "id": "cl3odWSlc8Tn",
        "outputId": "fe685e43-78eb-4b65-a6bb-2712390316fb"
      },
      "execution_count": 7,
      "outputs": [
        {
          "output_type": "execute_result",
          "data": {
            "text/plain": [
              "DataFrame[movieId: int, title: string, genres: string]"
            ]
          },
          "metadata": {},
          "execution_count": 7
        }
      ]
    },
    {
      "cell_type": "code",
      "source": [
        "display(moviesDF)"
      ],
      "metadata": {
        "colab": {
          "base_uri": "https://localhost:8080/",
          "height": 34
        },
        "id": "aH-is25yc_Y4",
        "outputId": "a6560597-cf61-49a0-e59e-d3886260be72"
      },
      "execution_count": 8,
      "outputs": [
        {
          "output_type": "display_data",
          "data": {
            "text/plain": [
              "DataFrame[movieId: int, title: string, genres: string]"
            ]
          },
          "metadata": {}
        }
      ]
    },
    {
      "cell_type": "markdown",
      "metadata": {
        "id": "LC8mTdybab8x"
      },
      "source": [
        "#### Write Movies Dataframe to Parquet File"
      ]
    },
    {
      "cell_type": "code",
      "execution_count": 9,
      "metadata": {
        "id": "g7K_kEsVab8y"
      },
      "outputs": [],
      "source": [
        "#moviesDF.write.parquet(\"hdfs:///user/root/data/MOV/PARQUET/movies.parquet\")\n",
        "moviesDF.write.parquet(\"/content/ml-latest/movies.parquet\")"
      ]
    },
    {
      "cell_type": "markdown",
      "metadata": {
        "id": "bA_UG6pzab8y"
      },
      "source": [
        "#### Reload Movies Dataframe From Parquet File"
      ]
    },
    {
      "cell_type": "code",
      "execution_count": 10,
      "metadata": {
        "id": "YI6H8xGcab8y"
      },
      "outputs": [],
      "source": [
        "# (everytime after the first export to PARQUET)\n",
        "\n",
        "# moviesDF = spark.read.parquet(\"hdfs:///user/root/data/MOV/PARQUET/movies.parquet\")\n",
        "moviesDF = spark.read.parquet(\"/content/ml-latest/movies.parquet\")"
      ]
    },
    {
      "cell_type": "markdown",
      "metadata": {
        "id": "Baa1tgjZab8y"
      },
      "source": [
        "#### Make Use of Caching Features"
      ]
    },
    {
      "cell_type": "code",
      "execution_count": null,
      "metadata": {
        "colab": {
          "base_uri": "https://localhost:8080/"
        },
        "id": "hT0QZsA1ab8z",
        "outputId": "58e7492c-3221-4eb8-d729-59415c89bfb8"
      },
      "outputs": [
        {
          "output_type": "execute_result",
          "data": {
            "text/plain": [
              "DataFrame[movieId: int, title: string, genres: string]"
            ]
          },
          "metadata": {},
          "execution_count": 11
        }
      ],
      "source": [
        "# caching might be aof great help for crossvalidation -among others\n",
        "# read caching comment for ratingsDF below\n",
        "\n",
        "moviesDF.cache()"
      ]
    },
    {
      "cell_type": "markdown",
      "metadata": {
        "id": "uaWJLyw0ab8z"
      },
      "source": [
        "#### Define schema for Ratings Dataset"
      ]
    },
    {
      "cell_type": "code",
      "execution_count": 11,
      "metadata": {
        "id": "IhtYzSs8ab8z"
      },
      "outputs": [],
      "source": [
        "# Define schema for ratings dataset\n",
        "ratingsStruct = [StructField(\"userId\", IntegerType(), True),\n",
        "    StructField(\"movieId\", IntegerType(), True),\n",
        "    StructField(\"rating\", DoubleType(), True),\n",
        "    StructField(\"timestamp\", IntegerType(), True)]\n",
        "\n",
        "ratingsSchema = StructType(ratingsStruct)"
      ]
    },
    {
      "cell_type": "markdown",
      "metadata": {
        "id": "kG_F2LxAab8z"
      },
      "source": [
        "#### Read Ratings Dataframe from HDFS"
      ]
    },
    {
      "cell_type": "code",
      "execution_count": 12,
      "metadata": {
        "colab": {
          "base_uri": "https://localhost:8080/",
          "height": 363
        },
        "id": "iXMybEipab8z",
        "outputId": "217453ee-0886-4289-b92a-b8ff641a193b"
      },
      "outputs": [
        {
          "output_type": "execute_result",
          "data": {
            "text/plain": [
              "   userId  movieId  rating   timestamp\n",
              "0       1      307     3.5  1256677221\n",
              "1       1      481     3.5  1256677456\n",
              "2       1     1091     1.5  1256677471\n",
              "3       1     1257     4.5  1256677460\n",
              "4       1     1449     4.5  1256677264\n",
              "5       1     1590     2.5  1256677236\n",
              "6       1     1591     1.5  1256677475\n",
              "7       1     2134     4.5  1256677464\n",
              "8       1     2478     4.0  1256677239\n",
              "9       1     2840     3.0  1256677500"
            ],
            "text/html": [
              "\n",
              "  <div id=\"df-1b59aac9-6cfb-4ece-8e8f-ee11e69a9d53\">\n",
              "    <div class=\"colab-df-container\">\n",
              "      <div>\n",
              "<style scoped>\n",
              "    .dataframe tbody tr th:only-of-type {\n",
              "        vertical-align: middle;\n",
              "    }\n",
              "\n",
              "    .dataframe tbody tr th {\n",
              "        vertical-align: top;\n",
              "    }\n",
              "\n",
              "    .dataframe thead th {\n",
              "        text-align: right;\n",
              "    }\n",
              "</style>\n",
              "<table border=\"1\" class=\"dataframe\">\n",
              "  <thead>\n",
              "    <tr style=\"text-align: right;\">\n",
              "      <th></th>\n",
              "      <th>userId</th>\n",
              "      <th>movieId</th>\n",
              "      <th>rating</th>\n",
              "      <th>timestamp</th>\n",
              "    </tr>\n",
              "  </thead>\n",
              "  <tbody>\n",
              "    <tr>\n",
              "      <th>0</th>\n",
              "      <td>1</td>\n",
              "      <td>307</td>\n",
              "      <td>3.5</td>\n",
              "      <td>1256677221</td>\n",
              "    </tr>\n",
              "    <tr>\n",
              "      <th>1</th>\n",
              "      <td>1</td>\n",
              "      <td>481</td>\n",
              "      <td>3.5</td>\n",
              "      <td>1256677456</td>\n",
              "    </tr>\n",
              "    <tr>\n",
              "      <th>2</th>\n",
              "      <td>1</td>\n",
              "      <td>1091</td>\n",
              "      <td>1.5</td>\n",
              "      <td>1256677471</td>\n",
              "    </tr>\n",
              "    <tr>\n",
              "      <th>3</th>\n",
              "      <td>1</td>\n",
              "      <td>1257</td>\n",
              "      <td>4.5</td>\n",
              "      <td>1256677460</td>\n",
              "    </tr>\n",
              "    <tr>\n",
              "      <th>4</th>\n",
              "      <td>1</td>\n",
              "      <td>1449</td>\n",
              "      <td>4.5</td>\n",
              "      <td>1256677264</td>\n",
              "    </tr>\n",
              "    <tr>\n",
              "      <th>5</th>\n",
              "      <td>1</td>\n",
              "      <td>1590</td>\n",
              "      <td>2.5</td>\n",
              "      <td>1256677236</td>\n",
              "    </tr>\n",
              "    <tr>\n",
              "      <th>6</th>\n",
              "      <td>1</td>\n",
              "      <td>1591</td>\n",
              "      <td>1.5</td>\n",
              "      <td>1256677475</td>\n",
              "    </tr>\n",
              "    <tr>\n",
              "      <th>7</th>\n",
              "      <td>1</td>\n",
              "      <td>2134</td>\n",
              "      <td>4.5</td>\n",
              "      <td>1256677464</td>\n",
              "    </tr>\n",
              "    <tr>\n",
              "      <th>8</th>\n",
              "      <td>1</td>\n",
              "      <td>2478</td>\n",
              "      <td>4.0</td>\n",
              "      <td>1256677239</td>\n",
              "    </tr>\n",
              "    <tr>\n",
              "      <th>9</th>\n",
              "      <td>1</td>\n",
              "      <td>2840</td>\n",
              "      <td>3.0</td>\n",
              "      <td>1256677500</td>\n",
              "    </tr>\n",
              "  </tbody>\n",
              "</table>\n",
              "</div>\n",
              "      <button class=\"colab-df-convert\" onclick=\"convertToInteractive('df-1b59aac9-6cfb-4ece-8e8f-ee11e69a9d53')\"\n",
              "              title=\"Convert this dataframe to an interactive table.\"\n",
              "              style=\"display:none;\">\n",
              "        \n",
              "  <svg xmlns=\"http://www.w3.org/2000/svg\" height=\"24px\"viewBox=\"0 0 24 24\"\n",
              "       width=\"24px\">\n",
              "    <path d=\"M0 0h24v24H0V0z\" fill=\"none\"/>\n",
              "    <path d=\"M18.56 5.44l.94 2.06.94-2.06 2.06-.94-2.06-.94-.94-2.06-.94 2.06-2.06.94zm-11 1L8.5 8.5l.94-2.06 2.06-.94-2.06-.94L8.5 2.5l-.94 2.06-2.06.94zm10 10l.94 2.06.94-2.06 2.06-.94-2.06-.94-.94-2.06-.94 2.06-2.06.94z\"/><path d=\"M17.41 7.96l-1.37-1.37c-.4-.4-.92-.59-1.43-.59-.52 0-1.04.2-1.43.59L10.3 9.45l-7.72 7.72c-.78.78-.78 2.05 0 2.83L4 21.41c.39.39.9.59 1.41.59.51 0 1.02-.2 1.41-.59l7.78-7.78 2.81-2.81c.8-.78.8-2.07 0-2.86zM5.41 20L4 18.59l7.72-7.72 1.47 1.35L5.41 20z\"/>\n",
              "  </svg>\n",
              "      </button>\n",
              "      \n",
              "  <style>\n",
              "    .colab-df-container {\n",
              "      display:flex;\n",
              "      flex-wrap:wrap;\n",
              "      gap: 12px;\n",
              "    }\n",
              "\n",
              "    .colab-df-convert {\n",
              "      background-color: #E8F0FE;\n",
              "      border: none;\n",
              "      border-radius: 50%;\n",
              "      cursor: pointer;\n",
              "      display: none;\n",
              "      fill: #1967D2;\n",
              "      height: 32px;\n",
              "      padding: 0 0 0 0;\n",
              "      width: 32px;\n",
              "    }\n",
              "\n",
              "    .colab-df-convert:hover {\n",
              "      background-color: #E2EBFA;\n",
              "      box-shadow: 0px 1px 2px rgba(60, 64, 67, 0.3), 0px 1px 3px 1px rgba(60, 64, 67, 0.15);\n",
              "      fill: #174EA6;\n",
              "    }\n",
              "\n",
              "    [theme=dark] .colab-df-convert {\n",
              "      background-color: #3B4455;\n",
              "      fill: #D2E3FC;\n",
              "    }\n",
              "\n",
              "    [theme=dark] .colab-df-convert:hover {\n",
              "      background-color: #434B5C;\n",
              "      box-shadow: 0px 1px 3px 1px rgba(0, 0, 0, 0.15);\n",
              "      filter: drop-shadow(0px 1px 2px rgba(0, 0, 0, 0.3));\n",
              "      fill: #FFFFFF;\n",
              "    }\n",
              "  </style>\n",
              "\n",
              "      <script>\n",
              "        const buttonEl =\n",
              "          document.querySelector('#df-1b59aac9-6cfb-4ece-8e8f-ee11e69a9d53 button.colab-df-convert');\n",
              "        buttonEl.style.display =\n",
              "          google.colab.kernel.accessAllowed ? 'block' : 'none';\n",
              "\n",
              "        async function convertToInteractive(key) {\n",
              "          const element = document.querySelector('#df-1b59aac9-6cfb-4ece-8e8f-ee11e69a9d53');\n",
              "          const dataTable =\n",
              "            await google.colab.kernel.invokeFunction('convertToInteractive',\n",
              "                                                     [key], {});\n",
              "          if (!dataTable) return;\n",
              "\n",
              "          const docLinkHtml = 'Like what you see? Visit the ' +\n",
              "            '<a target=\"_blank\" href=https://colab.research.google.com/notebooks/data_table.ipynb>data table notebook</a>'\n",
              "            + ' to learn more about interactive tables.';\n",
              "          element.innerHTML = '';\n",
              "          dataTable['output_type'] = 'display_data';\n",
              "          await google.colab.output.renderOutput(dataTable, element);\n",
              "          const docLink = document.createElement('div');\n",
              "          docLink.innerHTML = docLinkHtml;\n",
              "          element.appendChild(docLink);\n",
              "        }\n",
              "      </script>\n",
              "    </div>\n",
              "  </div>\n",
              "  "
            ]
          },
          "metadata": {},
          "execution_count": 12
        }
      ],
      "source": [
        "# Read ratings from HDFS (FIRST TIME ONLY)\n",
        "ratingsDF = spark.read.format(\"csv\") \\\n",
        "    .option(\"header\", \"true\") \\\n",
        "    .option(\"delimiter\", \",\") \\\n",
        "    .schema(ratingsSchema) \\\n",
        "    .load(\"/content/ml-latest/ratings.csv\")\n",
        "#    .load(\"hdfs:///user/root/data/MOV/CSV/ratings.csv\")\n",
        "\n",
        "ratingsDF.limit(10).toPandas()"
      ]
    },
    {
      "cell_type": "markdown",
      "metadata": {
        "id": "pjcKnvY0ab80"
      },
      "source": [
        "#### Write Ratings Dataframe to Parquet File"
      ]
    },
    {
      "cell_type": "code",
      "execution_count": 13,
      "metadata": {
        "id": "CVil6oFkab80"
      },
      "outputs": [],
      "source": [
        "# ratingsDF.write.parquet(\"hdfs:///user/root/data/MOV/PARQUET/ratings.parquet\")\n",
        "ratingsDF.write.parquet(\"/content/ml-latest/ratings.parquet\")"
      ]
    },
    {
      "cell_type": "markdown",
      "metadata": {
        "id": "qlvaYIbFab80"
      },
      "source": [
        "#### Reload Ratings Dataframe From Parquet File"
      ]
    },
    {
      "cell_type": "code",
      "execution_count": 14,
      "metadata": {
        "scrolled": true,
        "id": "un5kulNUab80"
      },
      "outputs": [],
      "source": [
        "# LOAD RATINGS From Parquet File (everytime after the first export to PARQUEY)\n",
        "\n",
        "# ratingsDF = spark.read.parquet(\"hdfs:///user/root/data/MOV/PARQUET/ratings.parquet\").drop(\"timestamp\")\n",
        "ratingsDF = spark.read.parquet(\"/content/ml-latest/ratings.parquet\").drop(\"timestamp\")"
      ]
    },
    {
      "cell_type": "markdown",
      "metadata": {
        "id": "bD-JY5J8ab81"
      },
      "source": [
        "#### Make Use of Caching Features"
      ]
    },
    {
      "cell_type": "code",
      "execution_count": 15,
      "metadata": {
        "scrolled": true,
        "colab": {
          "base_uri": "https://localhost:8080/"
        },
        "id": "VBLsPwPhab81",
        "outputId": "1d30421f-3212-42ae-e7ad-c09797e378a1"
      },
      "outputs": [
        {
          "output_type": "execute_result",
          "data": {
            "text/plain": [
              "DataFrame[userId: int, movieId: int, rating: double]"
            ]
          },
          "metadata": {},
          "execution_count": 15
        }
      ],
      "source": [
        "# Caching might be of great help - especially for crossvalidation -among others\n",
        "# it is recommended for RDD re-use in iterative machine learning applications\n",
        "# Check the size of your data on disk, and the total memory available to spark\n",
        "# to see how much of your data fits into memory\n",
        "# If the RDD does not fit in memory, some partitions will not be cached and will be recomputed on the fly each time they're needed.\n",
        "\n",
        "ratingsDF.cache()"
      ]
    },
    {
      "cell_type": "markdown",
      "metadata": {
        "id": "xh1GTSOnab81"
      },
      "source": [
        "<hr style=\"border:1px solid blue\"></hr>"
      ]
    },
    {
      "cell_type": "markdown",
      "metadata": {
        "id": "O0wrW5jKab81"
      },
      "source": [
        "### Data Exploration & Filtering"
      ]
    },
    {
      "cell_type": "markdown",
      "metadata": {
        "id": "MOVUUX6Lab81"
      },
      "source": [
        "#### Select Users Dataframe"
      ]
    },
    {
      "cell_type": "code",
      "execution_count": 16,
      "metadata": {
        "id": "Z6TZ_u_vab81"
      },
      "outputs": [],
      "source": [
        "# Unique Users Id :\n",
        "usersDF = ratingsDF.select(\"userId\").distinct()"
      ]
    },
    {
      "cell_type": "code",
      "execution_count": 17,
      "metadata": {
        "scrolled": false,
        "colab": {
          "base_uri": "https://localhost:8080/"
        },
        "id": "QY7iptVNab81",
        "outputId": "b7680067-5d1d-4b27-9402-ebfb4aa6954b"
      },
      "outputs": [
        {
          "output_type": "execute_result",
          "data": {
            "text/plain": [
              "283228"
            ]
          },
          "metadata": {},
          "execution_count": 17
        }
      ],
      "source": [
        "# Total User Count\n",
        "\n",
        "usersDF.count()"
      ]
    },
    {
      "cell_type": "code",
      "execution_count": 18,
      "metadata": {
        "scrolled": true,
        "colab": {
          "base_uri": "https://localhost:8080/"
        },
        "id": "hd3-RH7Eab82",
        "outputId": "3ca59e9f-645f-4e76-dbda-a4485a4df9f5"
      },
      "outputs": [
        {
          "output_type": "execute_result",
          "data": {
            "text/plain": [
              "['userId']"
            ]
          },
          "metadata": {},
          "execution_count": 18
        }
      ],
      "source": [
        "usersDF.columns"
      ]
    },
    {
      "cell_type": "markdown",
      "metadata": {
        "id": "F1gWo-Eiab82"
      },
      "source": [
        "#### Group Rating Count by Users"
      ]
    },
    {
      "cell_type": "code",
      "execution_count": 19,
      "metadata": {
        "scrolled": true,
        "colab": {
          "base_uri": "https://localhost:8080/"
        },
        "id": "IgsZ__bSab82",
        "outputId": "edcf19b1-157a-4152-e054-db42f00a6a94"
      },
      "outputs": [
        {
          "output_type": "stream",
          "name": "stdout",
          "text": [
            "+------+-----+\n",
            "|userId|count|\n",
            "+------+-----+\n",
            "|148   |48   |\n",
            "|463   |92   |\n",
            "|471   |363  |\n",
            "|496   |31   |\n",
            "|833   |17   |\n",
            "|1088  |5    |\n",
            "|1238  |5    |\n",
            "|1342  |3    |\n",
            "|1580  |33   |\n",
            "|1591  |52   |\n",
            "+------+-----+\n",
            "only showing top 10 rows\n",
            "\n"
          ]
        }
      ],
      "source": [
        "ratingsDF.groupBy(\"userId\").count().show(10, False)"
      ]
    },
    {
      "cell_type": "code",
      "execution_count": 20,
      "metadata": {
        "colab": {
          "base_uri": "https://localhost:8080/"
        },
        "id": "ZNbboPXRab82",
        "outputId": "09fee2f0-f717-4a44-97f7-af2c62c7037e"
      },
      "outputs": [
        {
          "output_type": "stream",
          "name": "stdout",
          "text": [
            "Got 27753444 ratings from 283228 users on 58098 movies.\n"
          ]
        }
      ],
      "source": [
        "# Summary\n",
        "# Got 1000209 ratings from 6040 users on 3883 movies.\n",
        "print(\"Got {} ratings from {} users on {} movies.\".format(ratingsDF.count(), usersDF.count(), moviesDF.count()))"
      ]
    },
    {
      "cell_type": "code",
      "execution_count": 21,
      "metadata": {
        "scrolled": true,
        "colab": {
          "base_uri": "https://localhost:8080/"
        },
        "id": "GJe3s6o8ab82",
        "outputId": "d45bc3a4-4e12-4a0b-86b9-27e7ab3f754f"
      },
      "outputs": [
        {
          "output_type": "execute_result",
          "data": {
            "text/plain": [
              "['userId', 'movieId', 'rating']"
            ]
          },
          "metadata": {},
          "execution_count": 21
        }
      ],
      "source": [
        "ratingsDF.columns"
      ]
    },
    {
      "cell_type": "markdown",
      "metadata": {
        "id": "-UOdHOi6ab82"
      },
      "source": [
        "#### Select Max User ID\n",
        "This will be useful for user incrementation"
      ]
    },
    {
      "cell_type": "code",
      "execution_count": 22,
      "metadata": {
        "scrolled": false,
        "colab": {
          "base_uri": "https://localhost:8080/"
        },
        "id": "JnYt1QxHab82",
        "outputId": "5e9d0d62-3961-4877-b47d-c6d6c1a9ed88"
      },
      "outputs": [
        {
          "output_type": "execute_result",
          "data": {
            "text/plain": [
              "283228"
            ]
          },
          "metadata": {},
          "execution_count": 22
        }
      ],
      "source": [
        "ratingsDF.agg({\"userId\": \"max\"}).collect()[0][0]"
      ]
    },
    {
      "cell_type": "code",
      "execution_count": 23,
      "metadata": {
        "scrolled": true,
        "colab": {
          "base_uri": "https://localhost:8080/"
        },
        "id": "QqPmY1g0ab83",
        "outputId": "29687cf5-94a5-4500-8f08-9d413e794cc8"
      },
      "outputs": [
        {
          "output_type": "execute_result",
          "data": {
            "text/plain": [
              "StructType([StructField('userId', IntegerType(), True), StructField('movieId', IntegerType(), True), StructField('rating', DoubleType(), True)])"
            ]
          },
          "metadata": {},
          "execution_count": 23
        }
      ],
      "source": [
        "ratingsDF.schema"
      ]
    },
    {
      "cell_type": "markdown",
      "metadata": {
        "id": "ANbMgOJxab83"
      },
      "source": [
        "#### Create Ratings View"
      ]
    },
    {
      "cell_type": "code",
      "execution_count": 24,
      "metadata": {
        "id": "YwIAfkB-ab83"
      },
      "outputs": [],
      "source": [
        "ratingsDF.createTempView(\"RATING\")"
      ]
    },
    {
      "cell_type": "markdown",
      "metadata": {
        "id": "FEbo6_gkab83"
      },
      "source": [
        "#### Use SQL to select Ratings for a specific User"
      ]
    },
    {
      "cell_type": "code",
      "execution_count": 25,
      "metadata": {
        "scrolled": true,
        "id": "9_0l_4J6ab83"
      },
      "outputs": [],
      "source": [
        "#%%sql\n",
        "#select * from RATING where userId = 283228"
      ]
    },
    {
      "cell_type": "code",
      "execution_count": 26,
      "metadata": {
        "id": "soaX4jsDab83"
      },
      "outputs": [],
      "source": [
        "#%%sql\n",
        "#select count(*) from RATING where userId = 283228"
      ]
    },
    {
      "cell_type": "markdown",
      "metadata": {
        "id": "GccuXSz-ab83"
      },
      "source": [
        "#### Create a Sample Dataframe\n",
        "(example)"
      ]
    },
    {
      "cell_type": "code",
      "execution_count": 27,
      "metadata": {
        "scrolled": false,
        "id": "KfGNRNc0ab83"
      },
      "outputs": [],
      "source": [
        "sampleDF = moviesDF.sample(fraction=0.001)"
      ]
    },
    {
      "cell_type": "markdown",
      "metadata": {
        "id": "Bxd4ts2Jab83"
      },
      "source": [
        "<hr style=\"border:1px solid blue\"></hr>"
      ]
    },
    {
      "cell_type": "markdown",
      "metadata": {
        "id": "gQOtIIllab84"
      },
      "source": [
        "### Exploring Movies Dataset"
      ]
    },
    {
      "cell_type": "markdown",
      "metadata": {
        "id": "IF7lHO6zab84"
      },
      "source": [
        "#### Select Comedy Movies Only"
      ]
    },
    {
      "cell_type": "code",
      "execution_count": 28,
      "metadata": {
        "scrolled": true,
        "colab": {
          "base_uri": "https://localhost:8080/",
          "height": 363
        },
        "id": "OPbEj4Kdab84",
        "outputId": "7cc5328b-545e-47ce-a770-0a1e808e55a3"
      },
      "outputs": [
        {
          "output_type": "execute_result",
          "data": {
            "text/plain": [
              "   movieId                                  title  \\\n",
              "0        1                       Toy Story (1995)   \n",
              "1        3                Grumpier Old Men (1995)   \n",
              "2        4               Waiting to Exhale (1995)   \n",
              "3        5     Father of the Bride Part II (1995)   \n",
              "4        7                         Sabrina (1995)   \n",
              "5       11         American President, The (1995)   \n",
              "6       12     Dracula: Dead and Loving It (1995)   \n",
              "7       18                      Four Rooms (1995)   \n",
              "8       19  Ace Ventura: When Nature Calls (1995)   \n",
              "9       20                     Money Train (1995)   \n",
              "\n",
              "                                        genres  \n",
              "0  Adventure|Animation|Children|Comedy|Fantasy  \n",
              "1                               Comedy|Romance  \n",
              "2                         Comedy|Drama|Romance  \n",
              "3                                       Comedy  \n",
              "4                               Comedy|Romance  \n",
              "5                         Comedy|Drama|Romance  \n",
              "6                                Comedy|Horror  \n",
              "7                                       Comedy  \n",
              "8                                       Comedy  \n",
              "9           Action|Comedy|Crime|Drama|Thriller  "
            ],
            "text/html": [
              "\n",
              "  <div id=\"df-9ffc577d-47c6-4a89-a863-0d517f984ac6\">\n",
              "    <div class=\"colab-df-container\">\n",
              "      <div>\n",
              "<style scoped>\n",
              "    .dataframe tbody tr th:only-of-type {\n",
              "        vertical-align: middle;\n",
              "    }\n",
              "\n",
              "    .dataframe tbody tr th {\n",
              "        vertical-align: top;\n",
              "    }\n",
              "\n",
              "    .dataframe thead th {\n",
              "        text-align: right;\n",
              "    }\n",
              "</style>\n",
              "<table border=\"1\" class=\"dataframe\">\n",
              "  <thead>\n",
              "    <tr style=\"text-align: right;\">\n",
              "      <th></th>\n",
              "      <th>movieId</th>\n",
              "      <th>title</th>\n",
              "      <th>genres</th>\n",
              "    </tr>\n",
              "  </thead>\n",
              "  <tbody>\n",
              "    <tr>\n",
              "      <th>0</th>\n",
              "      <td>1</td>\n",
              "      <td>Toy Story (1995)</td>\n",
              "      <td>Adventure|Animation|Children|Comedy|Fantasy</td>\n",
              "    </tr>\n",
              "    <tr>\n",
              "      <th>1</th>\n",
              "      <td>3</td>\n",
              "      <td>Grumpier Old Men (1995)</td>\n",
              "      <td>Comedy|Romance</td>\n",
              "    </tr>\n",
              "    <tr>\n",
              "      <th>2</th>\n",
              "      <td>4</td>\n",
              "      <td>Waiting to Exhale (1995)</td>\n",
              "      <td>Comedy|Drama|Romance</td>\n",
              "    </tr>\n",
              "    <tr>\n",
              "      <th>3</th>\n",
              "      <td>5</td>\n",
              "      <td>Father of the Bride Part II (1995)</td>\n",
              "      <td>Comedy</td>\n",
              "    </tr>\n",
              "    <tr>\n",
              "      <th>4</th>\n",
              "      <td>7</td>\n",
              "      <td>Sabrina (1995)</td>\n",
              "      <td>Comedy|Romance</td>\n",
              "    </tr>\n",
              "    <tr>\n",
              "      <th>5</th>\n",
              "      <td>11</td>\n",
              "      <td>American President, The (1995)</td>\n",
              "      <td>Comedy|Drama|Romance</td>\n",
              "    </tr>\n",
              "    <tr>\n",
              "      <th>6</th>\n",
              "      <td>12</td>\n",
              "      <td>Dracula: Dead and Loving It (1995)</td>\n",
              "      <td>Comedy|Horror</td>\n",
              "    </tr>\n",
              "    <tr>\n",
              "      <th>7</th>\n",
              "      <td>18</td>\n",
              "      <td>Four Rooms (1995)</td>\n",
              "      <td>Comedy</td>\n",
              "    </tr>\n",
              "    <tr>\n",
              "      <th>8</th>\n",
              "      <td>19</td>\n",
              "      <td>Ace Ventura: When Nature Calls (1995)</td>\n",
              "      <td>Comedy</td>\n",
              "    </tr>\n",
              "    <tr>\n",
              "      <th>9</th>\n",
              "      <td>20</td>\n",
              "      <td>Money Train (1995)</td>\n",
              "      <td>Action|Comedy|Crime|Drama|Thriller</td>\n",
              "    </tr>\n",
              "  </tbody>\n",
              "</table>\n",
              "</div>\n",
              "      <button class=\"colab-df-convert\" onclick=\"convertToInteractive('df-9ffc577d-47c6-4a89-a863-0d517f984ac6')\"\n",
              "              title=\"Convert this dataframe to an interactive table.\"\n",
              "              style=\"display:none;\">\n",
              "        \n",
              "  <svg xmlns=\"http://www.w3.org/2000/svg\" height=\"24px\"viewBox=\"0 0 24 24\"\n",
              "       width=\"24px\">\n",
              "    <path d=\"M0 0h24v24H0V0z\" fill=\"none\"/>\n",
              "    <path d=\"M18.56 5.44l.94 2.06.94-2.06 2.06-.94-2.06-.94-.94-2.06-.94 2.06-2.06.94zm-11 1L8.5 8.5l.94-2.06 2.06-.94-2.06-.94L8.5 2.5l-.94 2.06-2.06.94zm10 10l.94 2.06.94-2.06 2.06-.94-2.06-.94-.94-2.06-.94 2.06-2.06.94z\"/><path d=\"M17.41 7.96l-1.37-1.37c-.4-.4-.92-.59-1.43-.59-.52 0-1.04.2-1.43.59L10.3 9.45l-7.72 7.72c-.78.78-.78 2.05 0 2.83L4 21.41c.39.39.9.59 1.41.59.51 0 1.02-.2 1.41-.59l7.78-7.78 2.81-2.81c.8-.78.8-2.07 0-2.86zM5.41 20L4 18.59l7.72-7.72 1.47 1.35L5.41 20z\"/>\n",
              "  </svg>\n",
              "      </button>\n",
              "      \n",
              "  <style>\n",
              "    .colab-df-container {\n",
              "      display:flex;\n",
              "      flex-wrap:wrap;\n",
              "      gap: 12px;\n",
              "    }\n",
              "\n",
              "    .colab-df-convert {\n",
              "      background-color: #E8F0FE;\n",
              "      border: none;\n",
              "      border-radius: 50%;\n",
              "      cursor: pointer;\n",
              "      display: none;\n",
              "      fill: #1967D2;\n",
              "      height: 32px;\n",
              "      padding: 0 0 0 0;\n",
              "      width: 32px;\n",
              "    }\n",
              "\n",
              "    .colab-df-convert:hover {\n",
              "      background-color: #E2EBFA;\n",
              "      box-shadow: 0px 1px 2px rgba(60, 64, 67, 0.3), 0px 1px 3px 1px rgba(60, 64, 67, 0.15);\n",
              "      fill: #174EA6;\n",
              "    }\n",
              "\n",
              "    [theme=dark] .colab-df-convert {\n",
              "      background-color: #3B4455;\n",
              "      fill: #D2E3FC;\n",
              "    }\n",
              "\n",
              "    [theme=dark] .colab-df-convert:hover {\n",
              "      background-color: #434B5C;\n",
              "      box-shadow: 0px 1px 3px 1px rgba(0, 0, 0, 0.15);\n",
              "      filter: drop-shadow(0px 1px 2px rgba(0, 0, 0, 0.3));\n",
              "      fill: #FFFFFF;\n",
              "    }\n",
              "  </style>\n",
              "\n",
              "      <script>\n",
              "        const buttonEl =\n",
              "          document.querySelector('#df-9ffc577d-47c6-4a89-a863-0d517f984ac6 button.colab-df-convert');\n",
              "        buttonEl.style.display =\n",
              "          google.colab.kernel.accessAllowed ? 'block' : 'none';\n",
              "\n",
              "        async function convertToInteractive(key) {\n",
              "          const element = document.querySelector('#df-9ffc577d-47c6-4a89-a863-0d517f984ac6');\n",
              "          const dataTable =\n",
              "            await google.colab.kernel.invokeFunction('convertToInteractive',\n",
              "                                                     [key], {});\n",
              "          if (!dataTable) return;\n",
              "\n",
              "          const docLinkHtml = 'Like what you see? Visit the ' +\n",
              "            '<a target=\"_blank\" href=https://colab.research.google.com/notebooks/data_table.ipynb>data table notebook</a>'\n",
              "            + ' to learn more about interactive tables.';\n",
              "          element.innerHTML = '';\n",
              "          dataTable['output_type'] = 'display_data';\n",
              "          await google.colab.output.renderOutput(dataTable, element);\n",
              "          const docLink = document.createElement('div');\n",
              "          docLink.innerHTML = docLinkHtml;\n",
              "          element.appendChild(docLink);\n",
              "        }\n",
              "      </script>\n",
              "    </div>\n",
              "  </div>\n",
              "  "
            ]
          },
          "metadata": {},
          "execution_count": 28
        }
      ],
      "source": [
        "moviesDF.filter(moviesDF.genres.contains('Comedy')).limit(10).toPandas()"
      ]
    },
    {
      "cell_type": "markdown",
      "metadata": {
        "id": "wW6nPYoAab84"
      },
      "source": [
        "#### Display the TOP rated Comedy Movies (not aggregated)\n"
      ]
    },
    {
      "cell_type": "code",
      "execution_count": 29,
      "metadata": {
        "scrolled": false,
        "colab": {
          "base_uri": "https://localhost:8080/"
        },
        "id": "YLwy-7F2ab84",
        "outputId": "bdcb3724-30c8-4ef2-b84d-99e3a3e8ae90"
      },
      "outputs": [
        {
          "output_type": "stream",
          "name": "stdout",
          "text": [
            "+-------+------------------------------------------------------+--------------------------------------------+------+------+\n",
            "|movieId|title                                                 |genres                                      |userId|rating|\n",
            "+-------+------------------------------------------------------+--------------------------------------------+------+------+\n",
            "|31878  |Kung Fu Hustle (Gong fu) (2004)                       |Action|Comedy                               |4     |5.0   |\n",
            "|81564  |Megamind (2010)                                       |Action|Animation|Children|Comedy|Sci-Fi|IMAX|152393|5.0   |\n",
            "|1234   |Sting, The (1973)                                     |Comedy|Crime                                |10    |5.0   |\n",
            "|70     |From Dusk Till Dawn (1996)                            |Action|Comedy|Horror|Thriller               |152402|5.0   |\n",
            "|34162  |Wedding Crashers (2005)                               |Comedy|Romance                              |4     |5.0   |\n",
            "|97225  |Hotel Transylvania (2012)                             |Animation|Children|Comedy                   |152393|5.0   |\n",
            "|608    |Fargo (1996)                                          |Comedy|Crime|Drama|Thriller                 |4     |5.0   |\n",
            "|1485   |Liar Liar (1997)                                      |Comedy                                      |152393|5.0   |\n",
            "|296    |Pulp Fiction (1994)                                   |Comedy|Crime|Drama|Thriller                 |5     |5.0   |\n",
            "|97913  |Wreck-It Ralph (2012)                                 |Animation|Comedy                            |152393|5.0   |\n",
            "|1396   |Sneakers (1992)                                       |Action|Comedy|Crime|Drama|Sci-Fi            |4     |5.0   |\n",
            "|1682   |Truman Show, The (1998)                               |Comedy|Drama|Sci-Fi                         |152393|5.0   |\n",
            "|778    |Trainspotting (1996)                                  |Comedy|Crime|Drama                          |5     |5.0   |\n",
            "|101142 |Croods, The (2013)                                    |Adventure|Animation|Comedy                  |152393|5.0   |\n",
            "|1527   |Fifth Element, The (1997)                             |Action|Adventure|Comedy|Sci-Fi              |4     |5.0   |\n",
            "|3751   |Chicken Run (2000)                                    |Animation|Children|Comedy                   |152393|5.0   |\n",
            "|1732   |Big Lebowski, The (1998)                              |Comedy|Crime                                |5     |5.0   |\n",
            "|115617 |Big Hero 6 (2014)                                     |Action|Animation|Comedy                     |152393|5.0   |\n",
            "|2502   |Office Space (1999)                                   |Comedy|Crime                                |4     |5.0   |\n",
            "|3868   |Naked Gun: From the Files of Police Squad!, The (1988)|Action|Comedy|Crime|Romance                 |152393|5.0   |\n",
            "+-------+------------------------------------------------------+--------------------------------------------+------+------+\n",
            "only showing top 20 rows\n",
            "\n"
          ]
        }
      ],
      "source": [
        "moviesDF.filter(moviesDF.genres.contains('Comedy')) \\\n",
        "    .join(ratingsDF, \"movieId\") \\\n",
        "    .sort(col(\"rating\").desc()) \\\n",
        "    .show(20, truncate=False)"
      ]
    },
    {
      "cell_type": "markdown",
      "metadata": {
        "id": "aTUOByPBab84"
      },
      "source": [
        "#### Count of Comedy Movies Grouped By Rating"
      ]
    },
    {
      "cell_type": "code",
      "execution_count": 30,
      "metadata": {
        "scrolled": true,
        "colab": {
          "base_uri": "https://localhost:8080/"
        },
        "id": "7OIUJzVaab84",
        "outputId": "09202b78-a1e9-42a8-9d4b-81c87921210a"
      },
      "outputs": [
        {
          "output_type": "stream",
          "name": "stdout",
          "text": [
            "+------+-------+\n",
            "|rating|count  |\n",
            "+------+-------+\n",
            "|0.5   |187410 |\n",
            "|1.0   |386705 |\n",
            "|1.5   |188873 |\n",
            "|2.0   |773957 |\n",
            "|2.5   |555232 |\n",
            "|3.0   |2149866|\n",
            "|3.5   |1222753|\n",
            "|4.0   |2544453|\n",
            "|4.5   |722715 |\n",
            "|5.0   |1267220|\n",
            "+------+-------+\n",
            "\n"
          ]
        }
      ],
      "source": [
        "moviesDF.filter(moviesDF.genres.contains('Comedy')) \\\n",
        "    .join(ratingsDF, \"movieId\") \\\n",
        "    .groupBy(col(\"rating\")).count().orderBy(\"rating\") \\\n",
        "    .show(20, truncate=False)"
      ]
    },
    {
      "cell_type": "markdown",
      "metadata": {
        "id": "YngY7DFkab84"
      },
      "source": [
        "#### MOST Rated Comedy Movies - No matter the rating"
      ]
    },
    {
      "cell_type": "code",
      "execution_count": 31,
      "metadata": {
        "scrolled": true,
        "colab": {
          "base_uri": "https://localhost:8080/"
        },
        "id": "ZhlCdOARab85",
        "outputId": "da97e01d-d049-42b9-8da7-df8ae953cf4e"
      },
      "outputs": [
        {
          "output_type": "stream",
          "name": "stdout",
          "text": [
            "+-------+-----+\n",
            "|movieId|count|\n",
            "+-------+-----+\n",
            "|356    |97040|\n",
            "|296    |92406|\n",
            "|1      |68469|\n",
            "|1270   |57492|\n",
            "|608    |54500|\n",
            "|588    |51827|\n",
            "|380    |50864|\n",
            "|4306   |46826|\n",
            "|344    |45608|\n",
            "|1580   |44287|\n",
            "|1197   |42878|\n",
            "|1136   |40866|\n",
            "|1265   |40836|\n",
            "|6539   |39674|\n",
            "|367    |38699|\n",
            "|153    |38647|\n",
            "|597    |38504|\n",
            "|500    |38484|\n",
            "|231    |37823|\n",
            "|4973   |37167|\n",
            "+-------+-----+\n",
            "only showing top 20 rows\n",
            "\n"
          ]
        }
      ],
      "source": [
        "moviesDF.filter(moviesDF.genres.contains('Comedy')) \\\n",
        "    .join(ratingsDF, \"movieId\") \\\n",
        "    .groupBy(col(\"movieId\")).count().orderBy(\"count\", ascending=False) \\\n",
        "    .show(20, truncate=False)"
      ]
    },
    {
      "cell_type": "markdown",
      "metadata": {
        "id": "NYMWAzoOab85"
      },
      "source": [
        "#### Most Rated Comedy Movies, grouped by Movie & Rating\n"
      ]
    },
    {
      "cell_type": "code",
      "execution_count": 32,
      "metadata": {
        "scrolled": false,
        "colab": {
          "base_uri": "https://localhost:8080/"
        },
        "id": "bEcKckLOab85",
        "outputId": "844598e3-e71a-495e-c331-e87d44c97929"
      },
      "outputs": [
        {
          "output_type": "stream",
          "name": "stdout",
          "text": [
            "+-------+--------------------------------------+------+-----+\n",
            "|movieId|title                                 |rating|count|\n",
            "+-------+--------------------------------------+------+-----+\n",
            "|296    |Pulp Fiction (1994)                   |5.0   |37458|\n",
            "|356    |Forrest Gump (1994)                   |5.0   |32009|\n",
            "|356    |Forrest Gump (1994)                   |4.0   |27799|\n",
            "|1      |Toy Story (1995)                      |4.0   |22710|\n",
            "|296    |Pulp Fiction (1994)                   |4.0   |22604|\n",
            "|1270   |Back to the Future (1985)             |4.0   |19223|\n",
            "|608    |Fargo (1996)                          |5.0   |18616|\n",
            "|588    |Aladdin (1992)                        |4.0   |17150|\n",
            "|153    |Batman Forever (1995)                 |3.0   |16892|\n",
            "|608    |Fargo (1996)                          |4.0   |16635|\n",
            "|1      |Toy Story (1995)                      |5.0   |16497|\n",
            "|380    |True Lies (1994)                      |3.0   |16389|\n",
            "|380    |True Lies (1994)                      |4.0   |15726|\n",
            "|1197   |Princess Bride, The (1987)            |5.0   |15259|\n",
            "|344    |Ace Ventura: Pet Detective (1994)     |3.0   |14989|\n",
            "|4306   |Shrek (2001)                          |4.0   |14594|\n",
            "|1580   |Men in Black (a.k.a. MIB) (1997)      |4.0   |14104|\n",
            "|588    |Aladdin (1992)                        |3.0   |13945|\n",
            "|1265   |Groundhog Day (1993)                  |4.0   |13854|\n",
            "|1136   |Monty Python and the Holy Grail (1975)|5.0   |13810|\n",
            "+-------+--------------------------------------+------+-----+\n",
            "only showing top 20 rows\n",
            "\n"
          ]
        }
      ],
      "source": [
        "moviesDF.filter(moviesDF.genres.contains('Comedy')) \\\n",
        "    .join(ratingsDF, \"movieId\") \\\n",
        "    .groupBy(col(\"movieId\"),col(\"title\"), col(\"rating\")).count().orderBy(\"count\", ascending=False) \\\n",
        "    .show(20, truncate=False)"
      ]
    },
    {
      "cell_type": "code",
      "execution_count": 33,
      "metadata": {
        "scrolled": true,
        "id": "3sYuvAdxab85"
      },
      "outputs": [],
      "source": [
        "from pyspark.sql.functions import *"
      ]
    },
    {
      "cell_type": "markdown",
      "metadata": {
        "id": "4ubOrkQsab85"
      },
      "source": [
        "#### Top Rated Comedy Movies with most ratings"
      ]
    },
    {
      "cell_type": "code",
      "source": [
        "genre = \"Comedy\""
      ],
      "metadata": {
        "id": "Z48HUODFgmnh"
      },
      "execution_count": 34,
      "outputs": []
    },
    {
      "cell_type": "code",
      "execution_count": 35,
      "metadata": {
        "scrolled": false,
        "colab": {
          "base_uri": "https://localhost:8080/"
        },
        "id": "ciUYCyuvab85",
        "outputId": "864b374d-2ff3-40b7-efcb-4befdf39b5ae"
      },
      "outputs": [
        {
          "output_type": "stream",
          "name": "stdout",
          "text": [
            "+-------+--------------------+--------------------+-----+\n",
            "|movieId|               title|              genres|count|\n",
            "+-------+--------------------+--------------------+-----+\n",
            "|    356| Forrest Gump (1994)|Comedy|Drama|Roma...|97040|\n",
            "|    296| Pulp Fiction (1994)|Comedy|Crime|Dram...|92406|\n",
            "|      1|    Toy Story (1995)|Adventure|Animati...|68469|\n",
            "|   1270|Back to the Futur...|Adventure|Comedy|...|57492|\n",
            "|    608|        Fargo (1996)|Comedy|Crime|Dram...|54500|\n",
            "|    588|      Aladdin (1992)|Adventure|Animati...|51827|\n",
            "|    380|    True Lies (1994)|Action|Adventure|...|50864|\n",
            "|   4306|        Shrek (2001)|Adventure|Animati...|46826|\n",
            "|    344|Ace Ventura: Pet ...|              Comedy|45608|\n",
            "|   1580|Men in Black (a.k...|Action|Comedy|Sci-Fi|44287|\n",
            "|   1197|Princess Bride, T...|Action|Adventure|...|42878|\n",
            "|   1136|Monty Python and ...|Adventure|Comedy|...|40866|\n",
            "|   1265|Groundhog Day (1993)|Comedy|Fantasy|Ro...|40836|\n",
            "|   6539|Pirates of the Ca...|Action|Adventure|...|39674|\n",
            "|    367|    Mask, The (1994)|Action|Comedy|Cri...|38699|\n",
            "|    153|Batman Forever (1...|Action|Adventure|...|38647|\n",
            "|    597| Pretty Woman (1990)|      Comedy|Romance|38504|\n",
            "|    500|Mrs. Doubtfire (1...|        Comedy|Drama|38484|\n",
            "|    231|Dumb & Dumber (Du...|    Adventure|Comedy|37823|\n",
            "|   4973|Amelie (Fabuleux ...|      Comedy|Romance|37167|\n",
            "+-------+--------------------+--------------------+-----+\n",
            "only showing top 20 rows\n",
            "\n"
          ]
        }
      ],
      "source": [
        "genreMovieDF = moviesDF.filter(moviesDF.genres.contains(genre))\n",
        "\n",
        "moviesByRating_counts = genreMovieDF \\\n",
        "        .join(ratingsDF, \"movieId\") \\\n",
        "        .groupBy(\"movieId\").count().alias(\"count\").orderBy(desc(\"count\"))\n",
        "        #.groupBy(\"movieId\").count().alias(\"ratings count\").orderBy(desc(\"count\"))\n",
        "\n",
        "movieByRating_Full = genreMovieDF.join(moviesByRating_counts, \"movieId\") \\\n",
        "                                  .dropDuplicates().orderBy(desc(\"count\"))\n",
        "\n",
        "movieByRating_Full.show(20)"
      ]
    },
    {
      "cell_type": "code",
      "execution_count": 36,
      "metadata": {
        "scrolled": true,
        "colab": {
          "base_uri": "https://localhost:8080/"
        },
        "id": "MBx3ICU3ab85",
        "outputId": "838d6c27-50cd-4a03-dcc6-d5fbc1bbfbdc"
      },
      "outputs": [
        {
          "output_type": "execute_result",
          "data": {
            "text/plain": [
              "14961"
            ]
          },
          "metadata": {},
          "execution_count": 36
        }
      ],
      "source": [
        "movieByRating_Full.count()"
      ]
    },
    {
      "cell_type": "code",
      "execution_count": 37,
      "metadata": {
        "id": "7YNuk2DWab85"
      },
      "outputs": [],
      "source": [
        "movieByRating_Full.coalesce(1) \\\n",
        "      .write \\\n",
        "      .option(\"header\",\"true\") \\\n",
        "      .option(\"sep\",\",\") \\\n",
        "      .mode(\"overwrite\") \\\n",
        "      .csv(\"movie_output.csv\")\n",
        "#      .csv(\"file:///path/output/file\") \\"
      ]
    },
    {
      "cell_type": "markdown",
      "metadata": {
        "id": "F539BeZXab86"
      },
      "source": [
        "#### Get User Input"
      ]
    },
    {
      "cell_type": "code",
      "execution_count": 41,
      "metadata": {
        "colab": {
          "base_uri": "https://localhost:8080/"
        },
        "id": "1CZ393chab86",
        "outputId": "09736a2f-e468-4823-9833-e3ea22636e6f"
      },
      "outputs": [
        {
          "name": "stdout",
          "output_type": "stream",
          "text": [
            "Please rate the following movie (1-5 (best), or 0 if not seen):\n",
            "Venice/Venice (1992):\n",
            "0\n",
            "Please rate the following movie (1-5 (best), or 0 if not seen):\n",
            "Blue Juice (1995):\n",
            "0\n",
            "Please rate the following movie (1-5 (best), or 0 if not seen):\n",
            "Lost World: Jurassic Park, The (1997):\n",
            "5\n",
            "Please rate the following movie (1-5 (best), or 0 if not seen):\n",
            "Shadows and Fog (1991):\n",
            "5\n",
            "Please rate the following movie (1-5 (best), or 0 if not seen):\n",
            "The Girl in a Swing (1988):\n",
            "0\n",
            "Please rate the following movie (1-5 (best), or 0 if not seen):\n",
            "Lovely & Amazing (2001):\n",
            "5\n",
            "Please rate the following movie (1-5 (best), or 0 if not seen):\n",
            "Hukkle (2002):\n",
            "0\n",
            "Please rate the following movie (1-5 (best), or 0 if not seen):\n",
            "Bravados, The (1958):\n",
            "5\n",
            "Please rate the following movie (1-5 (best), or 0 if not seen):\n",
            "Shooting Gallery (2005):\n",
            "0\n",
            "Please rate the following movie (1-5 (best), or 0 if not seen):\n",
            "Dog Problem, The (2006):\n",
            "0\n",
            "Please rate the following movie (1-5 (best), or 0 if not seen):\n",
            "Bridesmaids (2011):\n",
            "5\n",
            "Please rate the following movie (1-5 (best), or 0 if not seen):\n",
            "She Cried No (Freshman Fall) (1996):\n",
            "2\n",
            "Please rate the following movie (1-5 (best), or 0 if not seen):\n",
            "Miss Representation (2011):\n",
            "1\n",
            "Please rate the following movie (1-5 (best), or 0 if not seen):\n",
            "Memory (2006):\n",
            "5\n",
            "Please rate the following movie (1-5 (best), or 0 if not seen):\n",
            "Misérables, Les (2012):\n",
            "5\n",
            "Please rate the following movie (1-5 (best), or 0 if not seen):\n",
            "Sorceress (1982):\n",
            "5\n",
            "Please rate the following movie (1-5 (best), or 0 if not seen):\n",
            "Wonder Woman (2009):\n",
            "5\n",
            "Please rate the following movie (1-5 (best), or 0 if not seen):\n",
            "Ratko: The Dictator's Son (National Lampoon's Ratko: The Dictator's Son) (2009):\n",
            "1\n",
            "Please rate the following movie (1-5 (best), or 0 if not seen):\n",
            "Imago mortis (2009):\n",
            "0\n",
            "Please rate the following movie (1-5 (best), or 0 if not seen):\n",
            "Whispering Smith (1948):\n",
            "0\n",
            "Please rate the following movie (1-5 (best), or 0 if not seen):\n",
            "Heat Wave (1991):\n",
            "5\n",
            "Please rate the following movie (1-5 (best), or 0 if not seen):\n",
            "The Last Mile (1959):\n",
            "4\n",
            "Please rate the following movie (1-5 (best), or 0 if not seen):\n",
            "The Survivor (1981):\n",
            "5\n",
            "Please rate the following movie (1-5 (best), or 0 if not seen):\n",
            "The Second Mother (2015):\n",
            "0\n",
            "Please rate the following movie (1-5 (best), or 0 if not seen):\n",
            "Mickey's Christmas Carol (1983):\n",
            "5\n",
            "Please rate the following movie (1-5 (best), or 0 if not seen):\n",
            "Some Velvet Morning (2013):\n",
            "2\n",
            "Please rate the following movie (1-5 (best), or 0 if not seen):\n",
            "Chelsea Handler Uganda Be Kidding Me Live (2014):\n",
            "2\n",
            "Please rate the following movie (1-5 (best), or 0 if not seen):\n",
            "Meadowland (2015):\n",
            "2\n",
            "Please rate the following movie (1-5 (best), or 0 if not seen):\n",
            "Kabukicho Love Hotel (2015):\n",
            "2\n",
            "Please rate the following movie (1-5 (best), or 0 if not seen):\n",
            "Ring of Darkness (1979):\n",
            "2\n",
            "Please rate the following movie (1-5 (best), or 0 if not seen):\n",
            "Behind Closed Shutters (1951):\n",
            "0\n",
            "Please rate the following movie (1-5 (best), or 0 if not seen):\n",
            "A Special Cop in Action (1976):\n",
            "1\n",
            "Please rate the following movie (1-5 (best), or 0 if not seen):\n",
            "Paris Follies (2014):\n",
            "1\n",
            "Please rate the following movie (1-5 (best), or 0 if not seen):\n",
            "Top Gear: The Worst Car In the History of the World (2012):\n",
            "1\n",
            "Please rate the following movie (1-5 (best), or 0 if not seen):\n",
            "The Young Stranger (1957):\n",
            "0\n",
            "Please rate the following movie (1-5 (best), or 0 if not seen):\n",
            "Eternal Summer (2015):\n",
            "0\n",
            "Please rate the following movie (1-5 (best), or 0 if not seen):\n",
            "Kóblic (2016):\n",
            "0\n",
            "Please rate the following movie (1-5 (best), or 0 if not seen):\n",
            "The Florodora Girl (1930):\n",
            "1\n",
            "Please rate the following movie (1-5 (best), or 0 if not seen):\n",
            "These Daughters of Mine (2015):\n",
            "1\n",
            "Please rate the following movie (1-5 (best), or 0 if not seen):\n",
            "Southern Fried Bigfoot (2007):\n",
            "1\n",
            "Please rate the following movie (1-5 (best), or 0 if not seen):\n",
            "Ngati (1987):\n",
            "0\n",
            "Please rate the following movie (1-5 (best), or 0 if not seen):\n",
            "Cold River (1982):\n",
            "1\n",
            "Please rate the following movie (1-5 (best), or 0 if not seen):\n",
            "Abel (2010):\n",
            "1\n",
            "Please rate the following movie (1-5 (best), or 0 if not seen):\n",
            "All My Friends Are Leaving Brisbane (2007):\n",
            "5\n",
            "Please rate the following movie (1-5 (best), or 0 if not seen):\n",
            "Leonard-Cushing Fight (1894):\n",
            "4\n",
            "Please rate the following movie (1-5 (best), or 0 if not seen):\n",
            "Charismata (2017):\n",
            "0\n",
            "Please rate the following movie (1-5 (best), or 0 if not seen):\n",
            "Infoholic (2017):\n",
            "0\n",
            "Please rate the following movie (1-5 (best), or 0 if not seen):\n",
            "The Fox in the Chicken Coop (1978):\n",
            "4\n",
            "Please rate the following movie (1-5 (best), or 0 if not seen):\n",
            "Contact (1978):\n",
            "5\n"
          ]
        }
      ],
      "source": [
        "5# This Cell does not work on Jupyter unfortunately\n",
        "# due to Pyspark limited Python libraries integration\n",
        "# This need py4j integration and a call to scala/java\n",
        "# code for that is provided as a standalone pyton program\n",
        "\n",
        "\n",
        "for row in sampleDF.rdd.collect():\n",
        "    print(\"Please rate the following movie (1-5 (best), or 0 if not seen):\\n\" + row.title + \":\")\n",
        "    rate = int(input())"
      ]
    },
    {
      "cell_type": "code",
      "execution_count": 42,
      "metadata": {
        "scrolled": true,
        "colab": {
          "base_uri": "https://localhost:8080/"
        },
        "id": "DcGQ4RqOab86",
        "outputId": "4ff81d0c-36cd-4906-870f-66d122832cf8"
      },
      "outputs": [
        {
          "output_type": "stream",
          "name": "stdout",
          "text": [
            "+-------+------------------------------------------------+--------------------------------+------+------+\n",
            "|movieId|title                                           |genres                          |userId|rating|\n",
            "+-------+------------------------------------------------+--------------------------------+------+------+\n",
            "|307    |Three Colors: Blue (Trois couleurs: Bleu) (1993)|Drama                           |1     |3.5   |\n",
            "|481    |Kalifornia (1993)                               |Drama|Thriller                  |1     |3.5   |\n",
            "|1091   |Weekend at Bernie's (1989)                      |Comedy                          |1     |1.5   |\n",
            "|1257   |Better Off Dead... (1985)                       |Comedy|Romance                  |1     |4.5   |\n",
            "|1449   |Waiting for Guffman (1996)                      |Comedy                          |1     |4.5   |\n",
            "|1590   |Event Horizon (1997)                            |Horror|Sci-Fi|Thriller          |1     |2.5   |\n",
            "|1591   |Spawn (1997)                                    |Action|Adventure|Sci-Fi|Thriller|1     |1.5   |\n",
            "|2134   |Weird Science (1985)                            |Comedy|Fantasy|Sci-Fi           |1     |4.5   |\n",
            "|2478   |¡Three Amigos! (1986)                           |Comedy|Western                  |1     |4.0   |\n",
            "|2840   |Stigmata (1999)                                 |Drama|Thriller                  |1     |3.0   |\n",
            "+-------+------------------------------------------------+--------------------------------+------+------+\n",
            "only showing top 10 rows\n",
            "\n"
          ]
        }
      ],
      "source": [
        "joinDf = moviesDF.join(ratingsDF, \"movieId\")\n",
        "joinDf.show(10, False)"
      ]
    },
    {
      "cell_type": "code",
      "execution_count": 43,
      "metadata": {
        "scrolled": true,
        "colab": {
          "base_uri": "https://localhost:8080/"
        },
        "id": "Jn9P9I6lab86",
        "outputId": "6cbc8d58-3269-4cff-fe57-e87e92a683de"
      },
      "outputs": [
        {
          "output_type": "execute_result",
          "data": {
            "text/plain": [
              "DataFrame[rating: double, count: bigint]"
            ]
          },
          "metadata": {},
          "execution_count": 43
        }
      ],
      "source": [
        "ratingsDF.distinct().groupBy(\"rating\").count()"
      ]
    },
    {
      "cell_type": "markdown",
      "metadata": {
        "id": "geCzSYWrab86"
      },
      "source": [
        "<hr style=\"border:1px solid blue\"></hr>"
      ]
    },
    {
      "cell_type": "markdown",
      "metadata": {
        "id": "IqRQhaPRab86"
      },
      "source": [
        "### MODELING PART\n",
        "\n",
        "### Model Training"
      ]
    },
    {
      "cell_type": "markdown",
      "metadata": {
        "id": "kkeEE1kZab86"
      },
      "source": [
        "### Splitting data into training & test sets"
      ]
    },
    {
      "cell_type": "code",
      "execution_count": 44,
      "metadata": {
        "id": "DkTi-Jauab87"
      },
      "outputs": [],
      "source": [
        "\n",
        "trainingDF,testDF = ratingsDF.randomSplit([0.8, 0.2], seed=12345)\n",
        "\n",
        "# Got 1000209 ratings from 6040 users on 3883 movies.\n",
        "#print(\"Training {}, test {}.\".format(trainingDF.count(), testDF.count()))"
      ]
    },
    {
      "cell_type": "markdown",
      "metadata": {
        "id": "c34viON0ab87"
      },
      "source": [
        "### Timing Utility"
      ]
    },
    {
      "cell_type": "code",
      "execution_count": 45,
      "metadata": {
        "id": "9Reh6mtJab87"
      },
      "outputs": [],
      "source": [
        "from time import time\n",
        "from datetime import timedelta\n",
        "\n",
        "class T():\n",
        "    def __enter__(self):\n",
        "        self.start = time()\n",
        "    def __exit__(self, type, value, traceback):\n",
        "        self.end = time()\n",
        "        elapsed = self.end - self.start\n",
        "        print(str(timedelta(seconds=elapsed)))"
      ]
    },
    {
      "cell_type": "code",
      "execution_count": 46,
      "metadata": {
        "scrolled": true,
        "colab": {
          "base_uri": "https://localhost:8080/"
        },
        "id": "uQXmqdoeab87",
        "outputId": "3d144854-5507-4569-9d21-95b15502603d"
      },
      "outputs": [
        {
          "output_type": "execute_result",
          "data": {
            "text/plain": [
              "DataFrame[userId: int, movieId: int, rating: double]"
            ]
          },
          "metadata": {},
          "execution_count": 46
        }
      ],
      "source": [
        "trainingDF.cache()"
      ]
    },
    {
      "cell_type": "code",
      "execution_count": 47,
      "metadata": {
        "scrolled": true,
        "colab": {
          "base_uri": "https://localhost:8080/"
        },
        "id": "xmdnYT64ab87",
        "outputId": "4e241335-bd1f-40f8-b3b6-f0ea83b4d3fb"
      },
      "outputs": [
        {
          "output_type": "execute_result",
          "data": {
            "text/plain": [
              "DataFrame[userId: int, movieId: int, rating: double]"
            ]
          },
          "metadata": {},
          "execution_count": 47
        }
      ],
      "source": [
        "testDF.cache()"
      ]
    },
    {
      "cell_type": "code",
      "execution_count": 48,
      "metadata": {
        "colab": {
          "base_uri": "https://localhost:8080/"
        },
        "id": "6qQLUmsbab88",
        "outputId": "1102d50a-1595-412f-8449-ab385bab1bca"
      },
      "outputs": [
        {
          "output_type": "execute_result",
          "data": {
            "text/plain": [
              "281940"
            ]
          },
          "metadata": {},
          "execution_count": 48
        }
      ],
      "source": [
        "trainingDF.select(\"userId\").distinct().count()"
      ]
    },
    {
      "cell_type": "code",
      "execution_count": null,
      "metadata": {
        "colab": {
          "base_uri": "https://localhost:8080/"
        },
        "id": "dC5cJ2iSab88",
        "outputId": "8cfe6ecd-b07d-4037-e2e4-9a77b2646e6f"
      },
      "outputs": [
        {
          "output_type": "execute_result",
          "data": {
            "text/plain": [
              "264084"
            ]
          },
          "metadata": {},
          "execution_count": 49
        }
      ],
      "source": [
        "testDF.select(\"userId\").distinct().count()"
      ]
    },
    {
      "cell_type": "markdown",
      "metadata": {
        "id": "ApSXC-xTab88"
      },
      "source": [
        "At this point it is interesting to see that there might be users on the test dataset  \n",
        "that have no occurence in the training dataset, as the figures below can possibly suggest"
      ]
    },
    {
      "cell_type": "markdown",
      "metadata": {
        "id": "X_1vMJCeab88"
      },
      "source": [
        "### Training ALS model on the data\n"
      ]
    },
    {
      "cell_type": "code",
      "execution_count": 49,
      "metadata": {
        "scrolled": true,
        "id": "NgMbbGUtab88"
      },
      "outputs": [],
      "source": [
        "\n",
        "from pyspark.ml.recommendation import ALS\n",
        "\n",
        "als = ALS(maxIter=5,\n",
        "          regParam=0.01,\n",
        "          implicitPrefs=False,\n",
        "          userCol=\"userId\",\n",
        "          itemCol=\"movieId\",\n",
        "          ratingCol=\"rating\",\n",
        "          coldStartStrategy=\"drop\")"
      ]
    },
    {
      "cell_type": "code",
      "execution_count": 50,
      "metadata": {
        "scrolled": true,
        "colab": {
          "base_uri": "https://localhost:8080/"
        },
        "id": "2yOsdbg6ab88",
        "outputId": "b71be0bc-1d93-413c-e0a0-48581067de76"
      },
      "outputs": [
        {
          "output_type": "stream",
          "name": "stdout",
          "text": [
            "0:01:51.020459\n"
          ]
        }
      ],
      "source": [
        "# Fit Model (just a test - DO NOT RUN if you still need to cross-validate)\n",
        "\n",
        "with T():\n",
        "    model = als.fit(trainingDF)"
      ]
    },
    {
      "cell_type": "markdown",
      "metadata": {
        "id": "TMlajlctab89"
      },
      "source": [
        "<hr style=\"border:1px solid blue\"></hr>"
      ]
    },
    {
      "cell_type": "markdown",
      "metadata": {
        "id": "6SdY3CKVab89"
      },
      "source": [
        "### Cross Validation & Model Selection"
      ]
    },
    {
      "cell_type": "code",
      "execution_count": 51,
      "metadata": {
        "id": "AW4iG8Axab89"
      },
      "outputs": [],
      "source": [
        "from pyspark.ml.tuning import CrossValidator, ParamGridBuilder\n",
        "\n",
        "# WARNING : THIS CAN ESCALATE VERY QUICKLY, EVEN WITH ONLY TWO MODELS TO BE TESTED\n",
        "# UNLESS YOU ARE ABLE TO NARROW DOWN AND LOWER ITERATIONS CONSIDERABLY,\n",
        "# YOU WOULD BETTER AVOID THIS STEP ALL TOGETHER\n",
        "\n",
        "# NOTE THAT USING AN RMSE MINIMIZING LOOP CAN ALSO DO THE JOB\n",
        "\n",
        "#param_grid = ParamGridBuilder() \\\n",
        "#            .addGrid(als.rank, [10, 50, 100, 150]) \\\n",
        "#            .addGrid(als.regParam, [.01, .05, .1, .15]) \\\n",
        "#            .build()\n",
        "\n",
        "#param_grid = ParamGridBuilder() \\\n",
        "#            .addGrid(als.rank, [50, 100]) \\\n",
        "#            .addGrid(als.regParam, [.05, .1]) \\\n",
        "#            .build()\n",
        "\n",
        "param_grid = ParamGridBuilder() \\\n",
        "            .addGrid(als.rank, [50]) \\\n",
        "            .addGrid(als.regParam, [.05]) \\\n",
        "            .build()"
      ]
    },
    {
      "cell_type": "code",
      "execution_count": 52,
      "metadata": {
        "colab": {
          "base_uri": "https://localhost:8080/"
        },
        "id": "eX1Prtcyab89",
        "outputId": "fbb9f28b-b16e-4de9-df53-b82ced55b656"
      },
      "outputs": [
        {
          "output_type": "stream",
          "name": "stdout",
          "text": [
            "Num models to be tested:  1\n"
          ]
        }
      ],
      "source": [
        "from pyspark.ml.evaluation import RegressionEvaluator\n",
        "\n",
        "# Define evaluator as RMSE and print length of evaluator\n",
        "evaluator = RegressionEvaluator(\n",
        "           metricName=\"rmse\",\n",
        "           labelCol=\"rating\",\n",
        "           predictionCol=\"prediction\")\n",
        "\n",
        "print (\"Num models to be tested: \", len(param_grid))"
      ]
    },
    {
      "cell_type": "code",
      "execution_count": 53,
      "metadata": {
        "id": "mWNgwZwLab89"
      },
      "outputs": [],
      "source": [
        "cv = CrossValidator(estimator=als, \\\n",
        "                    estimatorParamMaps=param_grid, \\\n",
        "                    evaluator=evaluator, \\\n",
        "                    numFolds=5 , \\\n",
        "                    parallelism=4) # this last parallelism param is crucial for increasing performance"
      ]
    },
    {
      "cell_type": "markdown",
      "metadata": {
        "id": "5KOYh3voab89"
      },
      "source": [
        "### Fit The Cross Validator\n",
        "#### *(Optional - VERY Time Consuming)*"
      ]
    },
    {
      "cell_type": "code",
      "execution_count": 54,
      "metadata": {
        "id": "eF3oix3eab89"
      },
      "outputs": [],
      "source": [
        "# WARNING : Running this from a notebook hooked to Spark through Livy\n",
        "# will end up in a timeout after waiting for a long time\n",
        "# the job will still be running but it will be abruptly be killed due to a timeout setting\n",
        "# you need to setup livy.server.session.timeout and extend it to 1h  in livy.conf on the server, and restart livy\n",
        "# livy.server.session.state-retain.sec = 600s => move to 3600s\n",
        "# location : /etc/livy/conf/livy.conf\n",
        "\n",
        "# check spark web UI\n",
        "# check generated DAGs\n",
        "# check memory usage\n",
        "\n",
        "#cvModel = cv.fit(trainingDF)"
      ]
    },
    {
      "cell_type": "markdown",
      "metadata": {
        "id": "CdMHXbQEab89"
      },
      "source": [
        "<hr style=\"border:1px solid blue\"></hr>"
      ]
    },
    {
      "cell_type": "markdown",
      "metadata": {
        "id": "xqz63lqoab8-"
      },
      "source": [
        "### Model Evaluation"
      ]
    },
    {
      "cell_type": "markdown",
      "source": [],
      "metadata": {
        "id": "ZcuEsTKLLsLK"
      }
    },
    {
      "cell_type": "code",
      "execution_count": 55,
      "metadata": {
        "id": "rvU85l0Nab8-"
      },
      "outputs": [],
      "source": [
        "# Evaluate the model by computing the RMSE on the Rating Predictions established for test data\n",
        " # Évaluer le modèle en calculant le RMSE sur les prédictions de classement établies pour les données de test.\n",
        "\n",
        "predictions = model.transform(testDF)\n"
      ]
    },
    {
      "cell_type": "markdown",
      "source": [
        "La racine de l'erreur quadratique moyenne (REQM) ou racine de l'écart quadratique moyen (en anglais, root-mean-square error ou RMSE, et root-mean-square deviation ou RMSD) est une mesure fréquemment utilisée des différences entre les valeurs (valeurs d'échantillon ou de population) prédites par un modèle ou estimateur et les valeurs observées (ou vraies valeurs). La REQM représente la racine carrée du deuxième moment d'échantillonnage des différences entre les valeurs prédites et les valeurs observées. Ces écarts sont appelés résidus lorsque les calculs sont effectués sur l'échantillon de données qui a été utilisé pour l'estimation ou ils sont appelés erreurs (ou erreurs de prédiction) lorsqu'ils sont calculés sur des données hors de l'échantillon d'estimation. La REQM agrège les erreurs de prédiction de différents points de données en une seule mesure de puissance prédictive accrue. La REQM est une mesure de précision, qui sert à comparer les erreurs de différents modèles prédictifs pour un ensemble de données particulier et non entre différents ensembles de données, car elle dépend de l'échelle1.\n",
        "\n",
        "La REQM est toujours positive et une valeur de 0 (presque jamais atteinte en pratique) indiquerait un ajustement parfait aux données. En général, une valeur de REQM plus petite indique une meilleure précision qu'une valeur de REQM plus élevée. Cependant, les comparaisons entre différents jeux de données ne seraient pas valides car la mesure dépend de l'échelle relative des nombres utilisés.\n",
        "\n",
        "La REQM est la racine carrée de la moyenne des erreurs quadratiques. L'effet de chacune des erreurs sur la REQM est proportionnel à la taille de l'erreur quadratique; ainsi, des erreurs plus importantes ont un effet disproportionné sur la REQM. Par conséquent, la REQM est sensible aux valeurs aberrantes ou anomalies2,3."
      ],
      "metadata": {
        "id": "MQ4xBJrpLx0q"
      }
    },
    {
      "cell_type": "code",
      "execution_count": 56,
      "metadata": {
        "scrolled": true,
        "id": "U8bgPeGQab8-",
        "colab": {
          "base_uri": "https://localhost:8080/"
        },
        "outputId": "c8fc57c9-6d3c-48b5-c2ac-f9386dddf7cd"
      },
      "outputs": [
        {
          "output_type": "execute_result",
          "data": {
            "text/plain": [
              "['userId', 'movieId', 'rating', 'prediction']"
            ]
          },
          "metadata": {},
          "execution_count": 56
        }
      ],
      "source": [
        "predictions.columns"
      ]
    },
    {
      "cell_type": "code",
      "execution_count": 57,
      "metadata": {
        "scrolled": true,
        "id": "OXsd0XzDab8-",
        "colab": {
          "base_uri": "https://localhost:8080/"
        },
        "outputId": "a5269a03-8c99-45b5-e397-4f72cdef70b0"
      },
      "outputs": [
        {
          "output_type": "stream",
          "name": "stdout",
          "text": [
            "+------+-------+------+\n",
            "|userId|movieId|rating|\n",
            "+------+-------+------+\n",
            "|    12|     45|   3.0|\n",
            "|    12|    105|   3.0|\n",
            "|    12|    186|   2.5|\n",
            "|    12|    596|   2.0|\n",
            "|    12|   1090|   3.5|\n",
            "|    12|   1094|   2.0|\n",
            "|    12|   1380|   3.0|\n",
            "|    12|   1639|   2.5|\n",
            "|    12|   2001|   3.0|\n",
            "|    12|   2012|   1.5|\n",
            "|    12|   2100|   2.5|\n",
            "|    12|   2302|   2.5|\n",
            "|    12|   2353|   2.5|\n",
            "|    12|   2406|   3.0|\n",
            "|    12|   2502|   3.5|\n",
            "|    12|   2657|   2.0|\n",
            "|    12|   3897|   3.0|\n",
            "+------+-------+------+\n",
            "\n"
          ]
        }
      ],
      "source": [
        "trainingDF.filter(testDF.userId == \"12\").show()"
      ]
    },
    {
      "cell_type": "code",
      "execution_count": 58,
      "metadata": {
        "id": "sDol9yAhab8-",
        "colab": {
          "base_uri": "https://localhost:8080/"
        },
        "outputId": "5d6809ec-4a67-4320-9811-6623e5548657"
      },
      "outputs": [
        {
          "output_type": "stream",
          "name": "stdout",
          "text": [
            "+------+-------+------+\n",
            "|userId|movieId|rating|\n",
            "+------+-------+------+\n",
            "|    12|     48|   2.5|\n",
            "+------+-------+------+\n",
            "\n"
          ]
        }
      ],
      "source": [
        "testDF.filter(testDF.userId == \"12\").show()"
      ]
    },
    {
      "cell_type": "code",
      "execution_count": 59,
      "metadata": {
        "scrolled": false,
        "id": "4MNP0R3wab8-",
        "colab": {
          "base_uri": "https://localhost:8080/"
        },
        "outputId": "a34cf0c2-8bf0-4693-97f3-60b0005d23aa"
      },
      "outputs": [
        {
          "output_type": "stream",
          "name": "stdout",
          "text": [
            "+------+-------+------+\n",
            "|userId|movieId|rating|\n",
            "+------+-------+------+\n",
            "|1     |1591   |1.5   |\n",
            "|2     |2108   |3.5   |\n",
            "|2     |2243   |4.5   |\n",
            "|2     |2915   |3.5   |\n",
            "|3     |1645   |4.0   |\n",
            "|4     |11     |3.5   |\n",
            "|4     |20     |2.5   |\n",
            "|4     |70     |3.0   |\n",
            "|4     |186    |2.0   |\n",
            "|4     |204    |3.5   |\n",
            "+------+-------+------+\n",
            "only showing top 10 rows\n",
            "\n"
          ]
        }
      ],
      "source": [
        "testDF.show(10, False)"
      ]
    },
    {
      "cell_type": "code",
      "execution_count": 60,
      "metadata": {
        "scrolled": true,
        "id": "mgwxsr0Sab8-",
        "colab": {
          "base_uri": "https://localhost:8080/"
        },
        "outputId": "e29233f5-b421-429a-f3a2-f28e701f7392"
      },
      "outputs": [
        {
          "output_type": "stream",
          "name": "stdout",
          "text": [
            "+------+-----+\n",
            "|userId|count|\n",
            "+------+-----+\n",
            "|148   |10   |\n",
            "|463   |19   |\n",
            "|471   |68   |\n",
            "|496   |4    |\n",
            "|833   |3    |\n",
            "|1088  |1    |\n",
            "|1238  |1    |\n",
            "|1580  |6    |\n",
            "|1591  |11   |\n",
            "|1645  |39   |\n",
            "+------+-----+\n",
            "only showing top 10 rows\n",
            "\n"
          ]
        }
      ],
      "source": [
        "testDF.groupBy(\"userId\").count().show(10, False)"
      ]
    },
    {
      "cell_type": "code",
      "execution_count": 61,
      "metadata": {
        "id": "1MCEbDIDab8_",
        "colab": {
          "base_uri": "https://localhost:8080/"
        },
        "outputId": "a553b195-c4ee-4712-ee04-1ca14b728a96"
      },
      "outputs": [
        {
          "output_type": "stream",
          "name": "stdout",
          "text": [
            "+------+-------+------+----------+\n",
            "|userId|movieId|rating|prediction|\n",
            "+------+-------+------+----------+\n",
            "|1     |1591   |1.5   |2.8269727 |\n",
            "|3     |1645   |4.0   |2.7826192 |\n",
            "|4     |1591   |3.5   |2.9238656 |\n",
            "|4     |3997   |2.0   |2.1002023 |\n",
            "|19    |1088   |3.0   |3.623882  |\n",
            "|26    |3175   |5.0   |3.2104545 |\n",
            "|36    |6620   |4.5   |4.1649027 |\n",
            "|46    |1580   |4.0   |3.3254135 |\n",
            "|51    |1580   |3.0   |3.8802729 |\n",
            "|67    |1580   |1.0   |3.4803617 |\n",
            "+------+-------+------+----------+\n",
            "only showing top 10 rows\n",
            "\n",
            "0:00:11.934036\n"
          ]
        }
      ],
      "source": [
        "with T():\n",
        "    predictions.show(10, False)"
      ]
    },
    {
      "cell_type": "code",
      "execution_count": 62,
      "metadata": {
        "scrolled": true,
        "id": "uSULhpViab8_",
        "colab": {
          "base_uri": "https://localhost:8080/"
        },
        "outputId": "2160e8dc-6882-4707-ca34-9ab54a9eb423"
      },
      "outputs": [
        {
          "output_type": "stream",
          "name": "stdout",
          "text": [
            "+------+-----+\n",
            "|userId|count|\n",
            "+------+-----+\n",
            "|6336  |211  |\n",
            "|11141 |67   |\n",
            "|16339 |48   |\n",
            "|18051 |110  |\n",
            "|20924 |35   |\n",
            "|21700 |27   |\n",
            "|24171 |45   |\n",
            "|28088 |65   |\n",
            "|28146 |10   |\n",
            "|31261 |1    |\n",
            "+------+-----+\n",
            "only showing top 10 rows\n",
            "\n"
          ]
        }
      ],
      "source": [
        "predictions.groupBy(\"userId\").count().show(10, False)"
      ]
    },
    {
      "cell_type": "markdown",
      "metadata": {
        "id": "P5XvzpiWab8_"
      },
      "source": [
        "### Evaluate using Regression Evaluator\n",
        "Évaluer à l'aide de l'évaluateur de régression"
      ]
    },
    {
      "cell_type": "code",
      "execution_count": 63,
      "metadata": {
        "id": "WdutPcnTab8_",
        "colab": {
          "base_uri": "https://localhost:8080/"
        },
        "outputId": "9cf19fb8-20cf-4bd0-ee1a-58507c1ffc27"
      },
      "outputs": [
        {
          "output_type": "stream",
          "name": "stdout",
          "text": [
            "Root-mean-square error = 0.8388061146551058\n"
          ]
        }
      ],
      "source": [
        "from pyspark.ml.evaluation import RegressionEvaluator\n",
        "\n",
        "evaluator = RegressionEvaluator(metricName=\"rmse\", labelCol=\"rating\",\n",
        "                                predictionCol=\"prediction\")\n",
        "\n",
        "# Lower values of RMSE indicate better fit\n",
        "\n",
        "rmse = evaluator.evaluate(predictions)\n",
        "print(\"Root-mean-square error = \" + str(rmse))"
      ]
    },
    {
      "cell_type": "markdown",
      "metadata": {
        "id": "MfAiG4d8ab8_"
      },
      "source": [
        "<hr style=\"border:1px solid blue\"></hr>"
      ]
    },
    {
      "cell_type": "markdown",
      "metadata": {
        "id": "RLGgoUbqab8_"
      },
      "source": [
        "### Model Utilization"
      ]
    },
    {
      "cell_type": "markdown",
      "metadata": {
        "id": "w_bAP0Dyab8_"
      },
      "source": [
        "#### Generate recommendations for each user"
      ]
    },
    {
      "cell_type": "code",
      "execution_count": 64,
      "metadata": {
        "id": "WcSNvPQKab9A"
      },
      "outputs": [],
      "source": [
        "# CAUTION : This takes too much time to compute\n",
        "# Use subsets instead (cell below)\n",
        "\n",
        "# Generate top 10 movie recommendations for each user\n",
        "userRecs = model.recommendForAllUsers(10)\n",
        "\n",
        "# Generate top 10 user recommendations for each movie\n",
        "movieRecs = model.recommendForAllItems(10)"
      ]
    },
    {
      "cell_type": "markdown",
      "metadata": {
        "id": "_rj_JsI6ab9A"
      },
      "source": [
        "#### Generate recommendations for a subset of user"
      ]
    },
    {
      "cell_type": "code",
      "execution_count": 65,
      "metadata": {
        "id": "Nvf7Uqqyab9A"
      },
      "outputs": [],
      "source": [
        "# Generate top 10 movie recommendations for a specified set of users\n",
        "# Générer les 10 meilleures recommandations de films pour un ensemble spécifié d'utilisateurs\n",
        "users = ratingsDF.select(als.getUserCol()).distinct().limit(3)\n",
        "userSubsetRecs = model.recommendForUserSubset(users, 10)\n",
        "\n",
        "# Generate top 10 user recommendations for a specified set of movies\n",
        "# Générer les 10 meilleures recommandations d'utilisateurs pour un ensemble de films spécifié\n",
        "movies = ratingsDF.select(als.getItemCol()).distinct().limit(3)\n",
        "movieSubSetRecs = model.recommendForItemSubset(movies, 10)"
      ]
    },
    {
      "cell_type": "code",
      "execution_count": 66,
      "metadata": {
        "scrolled": false,
        "id": "044sKB83ab9A",
        "colab": {
          "base_uri": "https://localhost:8080/"
        },
        "outputId": "25a16630-8ba4-417d-886e-997905d17b7a"
      },
      "outputs": [
        {
          "output_type": "stream",
          "name": "stdout",
          "text": [
            "+------+-------------------------------------------------------------------------------------------------------------------------------------------------------------------------------------------------------------+\n",
            "|userId|recommendations                                                                                                                                                                                              |\n",
            "+------+-------------------------------------------------------------------------------------------------------------------------------------------------------------------------------------------------------------+\n",
            "|471   |[{182521, 11.5301485}, {154876, 8.8484955}, {119165, 8.8484955}, {186233, 8.360252}, {185895, 8.360252}, {185893, 8.360252}, {183057, 8.360252}, {178881, 8.360252}, {178417, 8.360252}, {178415, 8.360252}] |\n",
            "|463   |[{182521, 12.889332}, {191203, 7.5945907}, {158322, 6.9452977}, {77344, 6.9065566}, {153996, 6.7962174}, {109253, 6.7890496}, {154876, 6.5296535}, {119165, 6.5296535}, {81688, 6.468626}, {81906, 6.253641}]|\n",
            "|148   |[{182521, 17.566607}, {172629, 12.83805}, {153996, 11.596485}, {77344, 10.665246}, {141532, 10.063308}, {161040, 9.888279}, {81688, 9.832054}, {164791, 9.65651}, {176261, 9.465598}, {111456, 9.440424}]    |\n",
            "+------+-------------------------------------------------------------------------------------------------------------------------------------------------------------------------------------------------------------+\n",
            "\n"
          ]
        }
      ],
      "source": [
        "userSubsetRecs.show(10, False)"
      ]
    },
    {
      "cell_type": "code",
      "execution_count": 67,
      "metadata": {
        "scrolled": false,
        "id": "1yPHH3wpab9A",
        "colab": {
          "base_uri": "https://localhost:8080/",
          "height": 143
        },
        "outputId": "e6432dd5-7be2-42d7-9c4b-f6e0c2dea90a"
      },
      "outputs": [
        {
          "output_type": "execute_result",
          "data": {
            "text/plain": [
              "   userId                                    recommendations\n",
              "0     471  [(182521, 11.53014850616455), (154876, 8.84849...\n",
              "1     463  [(182521, 12.889331817626953), (191203, 7.5945...\n",
              "2     148  [(182521, 17.566606521606445), (172629, 12.838..."
            ],
            "text/html": [
              "\n",
              "  <div id=\"df-4cdaa13e-b736-4086-8f40-bd425c721be6\">\n",
              "    <div class=\"colab-df-container\">\n",
              "      <div>\n",
              "<style scoped>\n",
              "    .dataframe tbody tr th:only-of-type {\n",
              "        vertical-align: middle;\n",
              "    }\n",
              "\n",
              "    .dataframe tbody tr th {\n",
              "        vertical-align: top;\n",
              "    }\n",
              "\n",
              "    .dataframe thead th {\n",
              "        text-align: right;\n",
              "    }\n",
              "</style>\n",
              "<table border=\"1\" class=\"dataframe\">\n",
              "  <thead>\n",
              "    <tr style=\"text-align: right;\">\n",
              "      <th></th>\n",
              "      <th>userId</th>\n",
              "      <th>recommendations</th>\n",
              "    </tr>\n",
              "  </thead>\n",
              "  <tbody>\n",
              "    <tr>\n",
              "      <th>0</th>\n",
              "      <td>471</td>\n",
              "      <td>[(182521, 11.53014850616455), (154876, 8.84849...</td>\n",
              "    </tr>\n",
              "    <tr>\n",
              "      <th>1</th>\n",
              "      <td>463</td>\n",
              "      <td>[(182521, 12.889331817626953), (191203, 7.5945...</td>\n",
              "    </tr>\n",
              "    <tr>\n",
              "      <th>2</th>\n",
              "      <td>148</td>\n",
              "      <td>[(182521, 17.566606521606445), (172629, 12.838...</td>\n",
              "    </tr>\n",
              "  </tbody>\n",
              "</table>\n",
              "</div>\n",
              "      <button class=\"colab-df-convert\" onclick=\"convertToInteractive('df-4cdaa13e-b736-4086-8f40-bd425c721be6')\"\n",
              "              title=\"Convert this dataframe to an interactive table.\"\n",
              "              style=\"display:none;\">\n",
              "        \n",
              "  <svg xmlns=\"http://www.w3.org/2000/svg\" height=\"24px\"viewBox=\"0 0 24 24\"\n",
              "       width=\"24px\">\n",
              "    <path d=\"M0 0h24v24H0V0z\" fill=\"none\"/>\n",
              "    <path d=\"M18.56 5.44l.94 2.06.94-2.06 2.06-.94-2.06-.94-.94-2.06-.94 2.06-2.06.94zm-11 1L8.5 8.5l.94-2.06 2.06-.94-2.06-.94L8.5 2.5l-.94 2.06-2.06.94zm10 10l.94 2.06.94-2.06 2.06-.94-2.06-.94-.94-2.06-.94 2.06-2.06.94z\"/><path d=\"M17.41 7.96l-1.37-1.37c-.4-.4-.92-.59-1.43-.59-.52 0-1.04.2-1.43.59L10.3 9.45l-7.72 7.72c-.78.78-.78 2.05 0 2.83L4 21.41c.39.39.9.59 1.41.59.51 0 1.02-.2 1.41-.59l7.78-7.78 2.81-2.81c.8-.78.8-2.07 0-2.86zM5.41 20L4 18.59l7.72-7.72 1.47 1.35L5.41 20z\"/>\n",
              "  </svg>\n",
              "      </button>\n",
              "      \n",
              "  <style>\n",
              "    .colab-df-container {\n",
              "      display:flex;\n",
              "      flex-wrap:wrap;\n",
              "      gap: 12px;\n",
              "    }\n",
              "\n",
              "    .colab-df-convert {\n",
              "      background-color: #E8F0FE;\n",
              "      border: none;\n",
              "      border-radius: 50%;\n",
              "      cursor: pointer;\n",
              "      display: none;\n",
              "      fill: #1967D2;\n",
              "      height: 32px;\n",
              "      padding: 0 0 0 0;\n",
              "      width: 32px;\n",
              "    }\n",
              "\n",
              "    .colab-df-convert:hover {\n",
              "      background-color: #E2EBFA;\n",
              "      box-shadow: 0px 1px 2px rgba(60, 64, 67, 0.3), 0px 1px 3px 1px rgba(60, 64, 67, 0.15);\n",
              "      fill: #174EA6;\n",
              "    }\n",
              "\n",
              "    [theme=dark] .colab-df-convert {\n",
              "      background-color: #3B4455;\n",
              "      fill: #D2E3FC;\n",
              "    }\n",
              "\n",
              "    [theme=dark] .colab-df-convert:hover {\n",
              "      background-color: #434B5C;\n",
              "      box-shadow: 0px 1px 3px 1px rgba(0, 0, 0, 0.15);\n",
              "      filter: drop-shadow(0px 1px 2px rgba(0, 0, 0, 0.3));\n",
              "      fill: #FFFFFF;\n",
              "    }\n",
              "  </style>\n",
              "\n",
              "      <script>\n",
              "        const buttonEl =\n",
              "          document.querySelector('#df-4cdaa13e-b736-4086-8f40-bd425c721be6 button.colab-df-convert');\n",
              "        buttonEl.style.display =\n",
              "          google.colab.kernel.accessAllowed ? 'block' : 'none';\n",
              "\n",
              "        async function convertToInteractive(key) {\n",
              "          const element = document.querySelector('#df-4cdaa13e-b736-4086-8f40-bd425c721be6');\n",
              "          const dataTable =\n",
              "            await google.colab.kernel.invokeFunction('convertToInteractive',\n",
              "                                                     [key], {});\n",
              "          if (!dataTable) return;\n",
              "\n",
              "          const docLinkHtml = 'Like what you see? Visit the ' +\n",
              "            '<a target=\"_blank\" href=https://colab.research.google.com/notebooks/data_table.ipynb>data table notebook</a>'\n",
              "            + ' to learn more about interactive tables.';\n",
              "          element.innerHTML = '';\n",
              "          dataTable['output_type'] = 'display_data';\n",
              "          await google.colab.output.renderOutput(dataTable, element);\n",
              "          const docLink = document.createElement('div');\n",
              "          docLink.innerHTML = docLinkHtml;\n",
              "          element.appendChild(docLink);\n",
              "        }\n",
              "      </script>\n",
              "    </div>\n",
              "  </div>\n",
              "  "
            ]
          },
          "metadata": {},
          "execution_count": 67
        }
      ],
      "source": [
        "userSubsetRecs.limit(10).toPandas()"
      ]
    },
    {
      "cell_type": "markdown",
      "metadata": {
        "id": "PJ0uS-aAab9A"
      },
      "source": [
        "<hr style=\"border:1px solid blue\"></hr>"
      ]
    },
    {
      "cell_type": "markdown",
      "metadata": {
        "id": "2MmLUHHdab9A"
      },
      "source": [
        "### Data Formatting"
      ]
    },
    {
      "cell_type": "code",
      "execution_count": 69,
      "metadata": {
        "id": "Z50a6leGab9B"
      },
      "outputs": [],
      "source": [
        "# Get model recommendation for users based on their rating\n",
        "# You will notice that the Returned Dataframe has nested values\n",
        "# DataFrame[userId: int, recommendations: array<struct<movieId:int,rating:float>>]\n",
        "# You will also notice that predicted ratings are all over the place\n",
        "# This is not strictly an issue as it is not used \"directly\" and it can be ignored.\n",
        "# For more info see: https://stackoverflow.com/q/29051520/426332\n",
        "## Obtenir un modèle de recommandation pour les utilisateurs en fonction de leur évaluation\n",
        "# Vous remarquerez que le Dataframe retourné contient des valeurs imbriquées\n",
        "# DataFrame[userId : int, recommendations : array<struct<movieId:int,rating:float>>]\n",
        "# Vous remarquerez également que les évaluations prédites sont dispersées.\n",
        "# Ce n'est pas un problème à proprement parler puisqu'il n'est pas utilisé \"directement\" et qu'il peut être ignoré.\n",
        "# Pour plus d'informations, voir : https://stackoverflow.com/q/29051520/426332\n",
        "\n",
        "recoDF = userSubsetRecs.limit(10)\n",
        "#.toPandas()"
      ]
    },
    {
      "cell_type": "markdown",
      "metadata": {
        "id": "8xeQVIn-ab9B"
      },
      "source": [
        "#### Data Formatting & Join for staging & presentation"
      ]
    },
    {
      "cell_type": "code",
      "execution_count": 70,
      "metadata": {
        "scrolled": false,
        "id": "B5qfC4R4ab9B",
        "colab": {
          "base_uri": "https://localhost:8080/",
          "height": 990
        },
        "outputId": "61526068-87a8-43b4-ad1d-dc62f8fe19a6"
      },
      "outputs": [
        {
          "output_type": "execute_result",
          "data": {
            "text/plain": [
              "    userId  movieId                                       title\n",
              "0      148    77344    Chizuko's Younger Sister (Futari) (1991)\n",
              "1      148    81688                                Habit (1995)\n",
              "2      148   111456                Brasher Doubloon, The (1947)\n",
              "3      148   141532                            Retrieval (2006)\n",
              "4      148   153996                         All The Best (2009)\n",
              "5      148   161040                   The House of Light (1969)\n",
              "6      148   164791            Signed, Sealed, Delivered (2013)\n",
              "7      148   172629                               Picnic (1996)\n",
              "8      148   176261                         Demon Hunter (2016)\n",
              "9      148   182521                              Thakara (1979)\n",
              "10     463    77344    Chizuko's Younger Sister (Futari) (1991)\n",
              "11     463    81688                                Habit (1995)\n",
              "12     463    81906                       Snow and Ashes (2010)\n",
              "13     463   109253                    Argentina latente (2007)\n",
              "14     463   119165                          Lunch Break (2008)\n",
              "15     463   153996                         All The Best (2009)\n",
              "16     463   154876                          Manufractur (1985)\n",
              "17     463   158322  Lisa Lampanelli: Take It Like a Man (2005)\n",
              "18     463   182521                              Thakara (1979)\n",
              "19     463   191203                          Ô Jerusalem (2006)\n",
              "20     471   119165                          Lunch Break (2008)\n",
              "21     471   154876                          Manufractur (1985)\n",
              "22     471   178415                   The Ra Expeditions (1972)\n",
              "23     471   178417                        A Lustful Man (1961)\n",
              "24     471   178881                          The Visitor (1964)\n",
              "25     471   182521                              Thakara (1979)\n",
              "26     471   183057                            Goldstein (1965)\n",
              "27     471   185893          The Fox in the Chicken Coop (1978)\n",
              "28     471   185895                             The Pill (1972)\n",
              "29     471   186233                       The Scavengers (1970)"
            ],
            "text/html": [
              "\n",
              "  <div id=\"df-af72cbb9-cf38-47b1-8577-3e2467bb6e2a\">\n",
              "    <div class=\"colab-df-container\">\n",
              "      <div>\n",
              "<style scoped>\n",
              "    .dataframe tbody tr th:only-of-type {\n",
              "        vertical-align: middle;\n",
              "    }\n",
              "\n",
              "    .dataframe tbody tr th {\n",
              "        vertical-align: top;\n",
              "    }\n",
              "\n",
              "    .dataframe thead th {\n",
              "        text-align: right;\n",
              "    }\n",
              "</style>\n",
              "<table border=\"1\" class=\"dataframe\">\n",
              "  <thead>\n",
              "    <tr style=\"text-align: right;\">\n",
              "      <th></th>\n",
              "      <th>userId</th>\n",
              "      <th>movieId</th>\n",
              "      <th>title</th>\n",
              "    </tr>\n",
              "  </thead>\n",
              "  <tbody>\n",
              "    <tr>\n",
              "      <th>0</th>\n",
              "      <td>148</td>\n",
              "      <td>77344</td>\n",
              "      <td>Chizuko's Younger Sister (Futari) (1991)</td>\n",
              "    </tr>\n",
              "    <tr>\n",
              "      <th>1</th>\n",
              "      <td>148</td>\n",
              "      <td>81688</td>\n",
              "      <td>Habit (1995)</td>\n",
              "    </tr>\n",
              "    <tr>\n",
              "      <th>2</th>\n",
              "      <td>148</td>\n",
              "      <td>111456</td>\n",
              "      <td>Brasher Doubloon, The (1947)</td>\n",
              "    </tr>\n",
              "    <tr>\n",
              "      <th>3</th>\n",
              "      <td>148</td>\n",
              "      <td>141532</td>\n",
              "      <td>Retrieval (2006)</td>\n",
              "    </tr>\n",
              "    <tr>\n",
              "      <th>4</th>\n",
              "      <td>148</td>\n",
              "      <td>153996</td>\n",
              "      <td>All The Best (2009)</td>\n",
              "    </tr>\n",
              "    <tr>\n",
              "      <th>5</th>\n",
              "      <td>148</td>\n",
              "      <td>161040</td>\n",
              "      <td>The House of Light (1969)</td>\n",
              "    </tr>\n",
              "    <tr>\n",
              "      <th>6</th>\n",
              "      <td>148</td>\n",
              "      <td>164791</td>\n",
              "      <td>Signed, Sealed, Delivered (2013)</td>\n",
              "    </tr>\n",
              "    <tr>\n",
              "      <th>7</th>\n",
              "      <td>148</td>\n",
              "      <td>172629</td>\n",
              "      <td>Picnic (1996)</td>\n",
              "    </tr>\n",
              "    <tr>\n",
              "      <th>8</th>\n",
              "      <td>148</td>\n",
              "      <td>176261</td>\n",
              "      <td>Demon Hunter (2016)</td>\n",
              "    </tr>\n",
              "    <tr>\n",
              "      <th>9</th>\n",
              "      <td>148</td>\n",
              "      <td>182521</td>\n",
              "      <td>Thakara (1979)</td>\n",
              "    </tr>\n",
              "    <tr>\n",
              "      <th>10</th>\n",
              "      <td>463</td>\n",
              "      <td>77344</td>\n",
              "      <td>Chizuko's Younger Sister (Futari) (1991)</td>\n",
              "    </tr>\n",
              "    <tr>\n",
              "      <th>11</th>\n",
              "      <td>463</td>\n",
              "      <td>81688</td>\n",
              "      <td>Habit (1995)</td>\n",
              "    </tr>\n",
              "    <tr>\n",
              "      <th>12</th>\n",
              "      <td>463</td>\n",
              "      <td>81906</td>\n",
              "      <td>Snow and Ashes (2010)</td>\n",
              "    </tr>\n",
              "    <tr>\n",
              "      <th>13</th>\n",
              "      <td>463</td>\n",
              "      <td>109253</td>\n",
              "      <td>Argentina latente (2007)</td>\n",
              "    </tr>\n",
              "    <tr>\n",
              "      <th>14</th>\n",
              "      <td>463</td>\n",
              "      <td>119165</td>\n",
              "      <td>Lunch Break (2008)</td>\n",
              "    </tr>\n",
              "    <tr>\n",
              "      <th>15</th>\n",
              "      <td>463</td>\n",
              "      <td>153996</td>\n",
              "      <td>All The Best (2009)</td>\n",
              "    </tr>\n",
              "    <tr>\n",
              "      <th>16</th>\n",
              "      <td>463</td>\n",
              "      <td>154876</td>\n",
              "      <td>Manufractur (1985)</td>\n",
              "    </tr>\n",
              "    <tr>\n",
              "      <th>17</th>\n",
              "      <td>463</td>\n",
              "      <td>158322</td>\n",
              "      <td>Lisa Lampanelli: Take It Like a Man (2005)</td>\n",
              "    </tr>\n",
              "    <tr>\n",
              "      <th>18</th>\n",
              "      <td>463</td>\n",
              "      <td>182521</td>\n",
              "      <td>Thakara (1979)</td>\n",
              "    </tr>\n",
              "    <tr>\n",
              "      <th>19</th>\n",
              "      <td>463</td>\n",
              "      <td>191203</td>\n",
              "      <td>Ô Jerusalem (2006)</td>\n",
              "    </tr>\n",
              "    <tr>\n",
              "      <th>20</th>\n",
              "      <td>471</td>\n",
              "      <td>119165</td>\n",
              "      <td>Lunch Break (2008)</td>\n",
              "    </tr>\n",
              "    <tr>\n",
              "      <th>21</th>\n",
              "      <td>471</td>\n",
              "      <td>154876</td>\n",
              "      <td>Manufractur (1985)</td>\n",
              "    </tr>\n",
              "    <tr>\n",
              "      <th>22</th>\n",
              "      <td>471</td>\n",
              "      <td>178415</td>\n",
              "      <td>The Ra Expeditions (1972)</td>\n",
              "    </tr>\n",
              "    <tr>\n",
              "      <th>23</th>\n",
              "      <td>471</td>\n",
              "      <td>178417</td>\n",
              "      <td>A Lustful Man (1961)</td>\n",
              "    </tr>\n",
              "    <tr>\n",
              "      <th>24</th>\n",
              "      <td>471</td>\n",
              "      <td>178881</td>\n",
              "      <td>The Visitor (1964)</td>\n",
              "    </tr>\n",
              "    <tr>\n",
              "      <th>25</th>\n",
              "      <td>471</td>\n",
              "      <td>182521</td>\n",
              "      <td>Thakara (1979)</td>\n",
              "    </tr>\n",
              "    <tr>\n",
              "      <th>26</th>\n",
              "      <td>471</td>\n",
              "      <td>183057</td>\n",
              "      <td>Goldstein (1965)</td>\n",
              "    </tr>\n",
              "    <tr>\n",
              "      <th>27</th>\n",
              "      <td>471</td>\n",
              "      <td>185893</td>\n",
              "      <td>The Fox in the Chicken Coop (1978)</td>\n",
              "    </tr>\n",
              "    <tr>\n",
              "      <th>28</th>\n",
              "      <td>471</td>\n",
              "      <td>185895</td>\n",
              "      <td>The Pill (1972)</td>\n",
              "    </tr>\n",
              "    <tr>\n",
              "      <th>29</th>\n",
              "      <td>471</td>\n",
              "      <td>186233</td>\n",
              "      <td>The Scavengers (1970)</td>\n",
              "    </tr>\n",
              "  </tbody>\n",
              "</table>\n",
              "</div>\n",
              "      <button class=\"colab-df-convert\" onclick=\"convertToInteractive('df-af72cbb9-cf38-47b1-8577-3e2467bb6e2a')\"\n",
              "              title=\"Convert this dataframe to an interactive table.\"\n",
              "              style=\"display:none;\">\n",
              "        \n",
              "  <svg xmlns=\"http://www.w3.org/2000/svg\" height=\"24px\"viewBox=\"0 0 24 24\"\n",
              "       width=\"24px\">\n",
              "    <path d=\"M0 0h24v24H0V0z\" fill=\"none\"/>\n",
              "    <path d=\"M18.56 5.44l.94 2.06.94-2.06 2.06-.94-2.06-.94-.94-2.06-.94 2.06-2.06.94zm-11 1L8.5 8.5l.94-2.06 2.06-.94-2.06-.94L8.5 2.5l-.94 2.06-2.06.94zm10 10l.94 2.06.94-2.06 2.06-.94-2.06-.94-.94-2.06-.94 2.06-2.06.94z\"/><path d=\"M17.41 7.96l-1.37-1.37c-.4-.4-.92-.59-1.43-.59-.52 0-1.04.2-1.43.59L10.3 9.45l-7.72 7.72c-.78.78-.78 2.05 0 2.83L4 21.41c.39.39.9.59 1.41.59.51 0 1.02-.2 1.41-.59l7.78-7.78 2.81-2.81c.8-.78.8-2.07 0-2.86zM5.41 20L4 18.59l7.72-7.72 1.47 1.35L5.41 20z\"/>\n",
              "  </svg>\n",
              "      </button>\n",
              "      \n",
              "  <style>\n",
              "    .colab-df-container {\n",
              "      display:flex;\n",
              "      flex-wrap:wrap;\n",
              "      gap: 12px;\n",
              "    }\n",
              "\n",
              "    .colab-df-convert {\n",
              "      background-color: #E8F0FE;\n",
              "      border: none;\n",
              "      border-radius: 50%;\n",
              "      cursor: pointer;\n",
              "      display: none;\n",
              "      fill: #1967D2;\n",
              "      height: 32px;\n",
              "      padding: 0 0 0 0;\n",
              "      width: 32px;\n",
              "    }\n",
              "\n",
              "    .colab-df-convert:hover {\n",
              "      background-color: #E2EBFA;\n",
              "      box-shadow: 0px 1px 2px rgba(60, 64, 67, 0.3), 0px 1px 3px 1px rgba(60, 64, 67, 0.15);\n",
              "      fill: #174EA6;\n",
              "    }\n",
              "\n",
              "    [theme=dark] .colab-df-convert {\n",
              "      background-color: #3B4455;\n",
              "      fill: #D2E3FC;\n",
              "    }\n",
              "\n",
              "    [theme=dark] .colab-df-convert:hover {\n",
              "      background-color: #434B5C;\n",
              "      box-shadow: 0px 1px 3px 1px rgba(0, 0, 0, 0.15);\n",
              "      filter: drop-shadow(0px 1px 2px rgba(0, 0, 0, 0.3));\n",
              "      fill: #FFFFFF;\n",
              "    }\n",
              "  </style>\n",
              "\n",
              "      <script>\n",
              "        const buttonEl =\n",
              "          document.querySelector('#df-af72cbb9-cf38-47b1-8577-3e2467bb6e2a button.colab-df-convert');\n",
              "        buttonEl.style.display =\n",
              "          google.colab.kernel.accessAllowed ? 'block' : 'none';\n",
              "\n",
              "        async function convertToInteractive(key) {\n",
              "          const element = document.querySelector('#df-af72cbb9-cf38-47b1-8577-3e2467bb6e2a');\n",
              "          const dataTable =\n",
              "            await google.colab.kernel.invokeFunction('convertToInteractive',\n",
              "                                                     [key], {});\n",
              "          if (!dataTable) return;\n",
              "\n",
              "          const docLinkHtml = 'Like what you see? Visit the ' +\n",
              "            '<a target=\"_blank\" href=https://colab.research.google.com/notebooks/data_table.ipynb>data table notebook</a>'\n",
              "            + ' to learn more about interactive tables.';\n",
              "          element.innerHTML = '';\n",
              "          dataTable['output_type'] = 'display_data';\n",
              "          await google.colab.output.renderOutput(dataTable, element);\n",
              "          const docLink = document.createElement('div');\n",
              "          docLink.innerHTML = docLinkHtml;\n",
              "          element.appendChild(docLink);\n",
              "        }\n",
              "      </script>\n",
              "    </div>\n",
              "  </div>\n",
              "  "
            ]
          },
          "metadata": {},
          "execution_count": 70
        }
      ],
      "source": [
        "\n",
        "# Denormalize Recommendation Dataframe & explode the inner list so it can be selectable as a column\n",
        "# and filter out the rating colums as we do not need it\n",
        "## Dénormaliser le cadre de données de la recommandation et exploser la liste intérieure pour qu'elle puisse être sélectionnée en tant que colonne.\n",
        "# et filtrer les colonnes de notation car nous n'en avons pas besoin\n",
        "\n",
        "recoDF.select(col(\"userId\"),explode(col(\"recommendations\"))) \\\n",
        "      .select(col(\"userId\"),col(\"col.movieId\")) \\\n",
        "      .join(moviesDF,\"movieId\") \\\n",
        "      .orderBy(\"userId\") \\\n",
        "      .select(\"userId\", \"movieId\", \"title\") \\\n",
        "      .toPandas()"
      ]
    },
    {
      "cell_type": "code",
      "execution_count": 71,
      "metadata": {
        "scrolled": false,
        "id": "6lupfscPab9B",
        "colab": {
          "base_uri": "https://localhost:8080/"
        },
        "outputId": "a1e8f2e3-e9e4-4d93-f924-74be8caa5efc"
      },
      "outputs": [
        {
          "output_type": "stream",
          "name": "stdout",
          "text": [
            "+-------+-----------------------------------------------------------------------------------------------------------------------------------------------------------------------------------------------------------+\n",
            "|movieId|recommendations                                                                                                                                                                                            |\n",
            "+-------+-----------------------------------------------------------------------------------------------------------------------------------------------------------------------------------------------------------+\n",
            "|471    |[{135490, 7.590584}, {239567, 7.12318}, {233466, 6.8998976}, {86945, 6.8980136}, {137775, 6.8746758}, {151807, 6.8671203}, {248246, 6.778933}, {274358, 6.68422}, {114570, 6.6449842}, {110702, 6.6289253}]|\n",
            "|1591   |[{124245, 6.865902}, {153946, 6.3911524}, {238903, 6.366961}, {169769, 6.212488}, {271474, 6.1139183}, {234748, 5.9349246}, {167837, 5.9093366}, {52156, 5.887203}, {99983, 5.860842}, {85885, 5.8522286}] |\n",
            "|1645   |[{90304, 7.4126363}, {207188, 7.3240147}, {37959, 7.0604863}, {165969, 6.9238124}, {238903, 6.879975}, {4317, 6.8177304}, {78217, 6.813681}, {64903, 6.7839584}, {235023, 6.7577662}, {144151, 6.7345624}] |\n",
            "+-------+-----------------------------------------------------------------------------------------------------------------------------------------------------------------------------------------------------------+\n",
            "\n"
          ]
        }
      ],
      "source": [
        "movieSubSetRecs.show(10, False)"
      ]
    },
    {
      "cell_type": "code",
      "execution_count": 72,
      "metadata": {
        "id": "VPXzAetOab9B",
        "colab": {
          "base_uri": "https://localhost:8080/"
        },
        "outputId": "46d55d46-8f83-461d-9427-4fc736b554e2"
      },
      "outputs": [
        {
          "output_type": "stream",
          "name": "stdout",
          "text": [
            "+------+-------------------------------------------------------------------------------------------------------------------------------------------------------------------------------------------------------+\n",
            "|userId|recommendations                                                                                                                                                                                        |\n",
            "+------+-------------------------------------------------------------------------------------------------------------------------------------------------------------------------------------------------------+\n",
            "|12    |[{182521, 10.9551115}, {144710, 9.876971}, {159069, 9.479803}, {100289, 9.218746}, {140811, 9.180995}, {154935, 8.961508}, {184003, 8.74518}, {146136, 8.707633}, {6085, 8.533456}, {173417, 8.488026}]|\n",
            "+------+-------------------------------------------------------------------------------------------------------------------------------------------------------------------------------------------------------+\n",
            "\n"
          ]
        }
      ],
      "source": [
        "from pyspark.sql.functions import col\n",
        "\n",
        "# Recommendations for a specific user\n",
        "# Recommandations pour un utilisateur spécifique\n",
        "aUserId = 12\n",
        "recommandations = userRecs.filter(col(\"userId\") == aUserId)\n",
        "recommandations.show(1, False)"
      ]
    },
    {
      "cell_type": "code",
      "execution_count": 73,
      "metadata": {
        "id": "lOdEMTptab9B",
        "colab": {
          "base_uri": "https://localhost:8080/"
        },
        "outputId": "bd7c3bd9-e5ab-4b2e-b679-ae7c990c5369"
      },
      "outputs": [
        {
          "output_type": "stream",
          "name": "stdout",
          "text": [
            "Recommandations for user 12 :\n",
            "+-------+-------------------------------------+-----------------------+\n",
            "|movieId|title                                |genres                 |\n",
            "+-------+-------------------------------------+-----------------------+\n",
            "|182521 |Thakara (1979)                       |(no genres listed)     |\n",
            "|144710 |The Shift (2009)                     |Documentary|Drama      |\n",
            "|159069 |Comedy of the Strict Regime (1993)   |Comedy                 |\n",
            "|100289 |Pink Ribbons, Inc. (2011)            |Documentary            |\n",
            "|140811 |Sailor Moon Super S: The Movie (1995)|Action|Animation|Comedy|\n",
            "|154935 |For Grace (2015)                     |Documentary            |\n",
            "|184003 |Heroine                              |(no genres listed)     |\n",
            "|146136 |Masoom (1983)                        |Children|Drama         |\n",
            "|6085   |Neil Young: Human Highway (1982)     |Comedy|Drama           |\n",
            "|173417 |The Pass (2016)                      |Drama                  |\n",
            "+-------+-------------------------------------+-----------------------+\n",
            "\n"
          ]
        }
      ],
      "source": [
        "from pyspark.sql.functions import explode\n",
        "\n",
        "# Let's flatten the movie recommandations and look in detail\n",
        "# Aplatissons les recommandations de films et regardons en détail\n",
        "userRecommandations = recommandations.select(\n",
        "  explode(col(\"recommendations\").movieId).alias(\"movieId\")\n",
        ")\n",
        "\n",
        "print(\"Recommandations for user {} :\".format(aUserId))\n",
        "\n",
        "moviesDF.join(userRecommandations, \"movieId\").show(10, False)"
      ]
    },
    {
      "cell_type": "code",
      "execution_count": 74,
      "metadata": {
        "scrolled": true,
        "id": "wo_Hyy-nab9B",
        "colab": {
          "base_uri": "https://localhost:8080/"
        },
        "outputId": "04a09f7a-b3f6-49c1-cc26-e431c576ce91"
      },
      "outputs": [
        {
          "output_type": "stream",
          "name": "stdout",
          "text": [
            "+-------+------+------+-------------------------------------+----------------------------------------+\n",
            "|movieId|userId|rating|title                                |genres                                  |\n",
            "+-------+------+------+-------------------------------------+----------------------------------------+\n",
            "|1090   |12    |3.5   |Platoon (1986)                       |Drama|War                               |\n",
            "|2502   |12    |3.5   |Office Space (1999)                  |Comedy|Crime                            |\n",
            "|45     |12    |3.0   |To Die For (1995)                    |Comedy|Drama|Thriller                   |\n",
            "|105    |12    |3.0   |Bridges of Madison County, The (1995)|Drama|Romance                           |\n",
            "|1380   |12    |3.0   |Grease (1978)                        |Comedy|Musical|Romance                  |\n",
            "|2001   |12    |3.0   |Lethal Weapon 2 (1989)               |Action|Comedy|Crime|Drama               |\n",
            "|2406   |12    |3.0   |Romancing the Stone (1984)           |Action|Adventure|Comedy|Romance         |\n",
            "|3897   |12    |3.0   |Almost Famous (2000)                 |Drama                                   |\n",
            "|48     |12    |2.5   |Pocahontas (1995)                    |Animation|Children|Drama|Musical|Romance|\n",
            "|186    |12    |2.5   |Nine Months (1995)                   |Comedy|Romance                          |\n",
            "|1639   |12    |2.5   |Chasing Amy (1997)                   |Comedy|Drama|Romance                    |\n",
            "|2100   |12    |2.5   |Splash (1984)                        |Comedy|Fantasy|Romance                  |\n",
            "|2302   |12    |2.5   |My Cousin Vinny (1992)               |Comedy                                  |\n",
            "|2353   |12    |2.5   |Enemy of the State (1998)            |Action|Thriller                         |\n",
            "|596    |12    |2.0   |Pinocchio (1940)                     |Animation|Children|Fantasy|Musical      |\n",
            "|1094   |12    |2.0   |Crying Game, The (1992)              |Drama|Romance|Thriller                  |\n",
            "|2657   |12    |2.0   |Rocky Horror Picture Show, The (1975)|Comedy|Horror|Musical|Sci-Fi            |\n",
            "|2012   |12    |1.5   |Back to the Future Part III (1990)   |Adventure|Comedy|Sci-Fi|Western         |\n",
            "+-------+------+------+-------------------------------------+----------------------------------------+\n",
            "\n"
          ]
        }
      ],
      "source": [
        "# Ratings from the user\n",
        "\n",
        "ratingsDF.filter(col(\"userId\") == aUserId) \\\n",
        "    .join(moviesDF, \"movieId\") \\\n",
        "    .sort(col(\"rating\").desc()) \\\n",
        "    .show(100, truncate=False)"
      ]
    },
    {
      "cell_type": "markdown",
      "metadata": {
        "id": "KQiblz0Rab9C"
      },
      "source": [
        "<hr style=\"border:1px solid blue\"></hr>"
      ]
    },
    {
      "cell_type": "markdown",
      "metadata": {
        "id": "TALxzRCdab9C"
      },
      "source": [
        "### Log Model Experiments with MLFlow"
      ]
    },
    {
      "cell_type": "markdown",
      "metadata": {
        "id": "38K8RIm1ab9C"
      },
      "source": [
        "\n",
        "#### Make SURE to read carefully the MLFLOW REAMDE FILE first\n"
      ]
    },
    {
      "cell_type": "code",
      "execution_count": 75,
      "metadata": {
        "scrolled": true,
        "id": "V8urYYucab9C"
      },
      "outputs": [],
      "source": [
        "# import mlflow\n",
        "# import mlflow.spark"
      ]
    },
    {
      "cell_type": "code",
      "execution_count": 76,
      "metadata": {
        "id": "MANgAy9xab9C"
      },
      "outputs": [],
      "source": [
        "#not necessary as it defaults to /mlruns\n",
        "# mlflow.set_tracking_uri(\"file:///path/to/mlruns\")"
      ]
    },
    {
      "cell_type": "code",
      "execution_count": 77,
      "metadata": {
        "id": "Z0kKNxvbab9C"
      },
      "outputs": [],
      "source": [
        "# mlflow.set_tracking_uri(\"file:///mlruns\")"
      ]
    },
    {
      "cell_type": "code",
      "execution_count": 78,
      "metadata": {
        "scrolled": false,
        "id": "tx7L5aGbab9C"
      },
      "outputs": [],
      "source": [
        "# mlflow.start_run()"
      ]
    },
    {
      "cell_type": "code",
      "execution_count": 79,
      "metadata": {
        "scrolled": true,
        "id": "2oMkXauxab9D"
      },
      "outputs": [],
      "source": [
        "# mlflow.spark.log_model(model, \"ALSmodel_Lite8\")"
      ]
    },
    {
      "cell_type": "code",
      "execution_count": 80,
      "metadata": {
        "id": "ExX2D6Bmab9D"
      },
      "outputs": [],
      "source": [
        "# print(\"Model saved in run %s\" % mlflow.active_run().info.run_uuid)"
      ]
    },
    {
      "cell_type": "code",
      "execution_count": 81,
      "metadata": {
        "scrolled": false,
        "id": "T0h8Krnzab9D"
      },
      "outputs": [],
      "source": [
        "# mlflow.end_run()"
      ]
    },
    {
      "cell_type": "markdown",
      "metadata": {
        "id": "V0bKNCruab9D"
      },
      "source": [
        "**Run MLFlow UI to check your model**\n",
        "```\n",
        "mlflow ui --backend-store-uri /mlrun --host 0.0.0.0&\n",
        "```\n",
        "\n",
        "go to http://YOUR.IP.ADD.RESS:5000 :"
      ]
    },
    {
      "cell_type": "markdown",
      "metadata": {
        "id": "G7UrcAJnab9D"
      },
      "source": [
        "### Serve Model with MLFlow"
      ]
    },
    {
      "cell_type": "markdown",
      "metadata": {
        "id": "xKMNiuNzab9D"
      },
      "source": [
        "```console\n",
        "# Serve & Curl Request Examples  \n",
        "(Make SURE to read carefully the MLFLOW REAMDE FILE first)\n",
        "\n",
        "mlflow models serve -m /mlruns/0/6c8050941d0744b8ac3652ff22d40983/artifacts/ALSmodel_Lite2 -h 0.0.0.0 --port 9999 --no-conda\n",
        "\n",
        "\n",
        "curl -X POST localhost:9999/invocations -H 'Content-Type: application/json; format=pandas-split' -d '{\"columns\":[\"userId\",\"movieId\",\"rating\"], \"data\":[[1311,144210,5,1604450652]]}'  \n",
        "\n",
        "curl --request POST http://localhost:9999/invocations --header 'Content-Type: application/json; format=pandas-split' --data @mlf_data.json\n",
        "\n",
        "curl -X POST http://localhost:9999/invocations -H 'Content-Type: application/json; format=pandas-split' -d @mlf_data.json\n",
        "```\n",
        "\n"
      ]
    }
  ],
  "metadata": {
    "kernelspec": {
      "display_name": "PySpark",
      "language": "",
      "name": "pysparkkernel"
    },
    "language_info": {
      "codemirror_mode": {
        "name": "python",
        "version": 3
      },
      "mimetype": "text/x-python",
      "name": "pyspark",
      "pygments_lexer": "python3"
    },
    "colab": {
      "provenance": [],
      "include_colab_link": true
    }
  },
  "nbformat": 4,
  "nbformat_minor": 0
}